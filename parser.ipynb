{
 "cells": [
  {
   "cell_type": "markdown",
   "metadata": {},
   "source": [
    "# Parsing Jupyter Notebooks"
   ]
  },
  {
   "cell_type": "code",
   "execution_count": 1,
   "metadata": {
    "collapsed": true
   },
   "outputs": [],
   "source": [
    "import nbformat\n",
    "import io"
   ]
  },
  {
   "cell_type": "markdown",
   "metadata": {},
   "source": [
    "# Reading Notebooks"
   ]
  },
  {
   "cell_type": "code",
   "execution_count": 107,
   "metadata": {
    "collapsed": false
   },
   "outputs": [],
   "source": [
    "def read_nb(nb):\n",
    "    with io.open(nb, 'r', encoding='utf8') as f:\n",
    "        nb = nbformat.read(f, nbformat.NO_CONVERT)\n",
    "    return nb\n",
    "\n",
    "def write_nb(nb, fn):\n",
    "    if not fn.endswith('.ipynb'):\n",
    "        fn += '.ipynb'\n",
    "    with io.open(fn, 'w', encoding='utf8') as f:\n",
    "        nbformat.write(nb, f, nbformat.NO_CONVERT)\n",
    "\n",
    "def dump_nb(nb, cells=5, lines=5):\n",
    "    for c in xrange(0, cells):\n",
    "        print(\"====== \" + nb.cells[c]['cell_type'] + \" ======\")\n",
    "        src = nb.cells[c]['source'].splitlines()\n",
    "        if len(src) > lines:\n",
    "            print('\\n'.join(src[0:lines]))\n",
    "            print(\"...\")\n",
    "        else:\n",
    "            print(nb.cells[c]['source'])"
   ]
  },
  {
   "cell_type": "code",
   "execution_count": 48,
   "metadata": {
    "collapsed": false
   },
   "outputs": [],
   "source": [
    "#source_nb = 'atoms/visualization/choropleth_classification.ipynb'\n",
    "source_nb = 'atoms/foundations/Functions.ipynb'\n",
    "\n",
    "inb = read_nb(source_nb)"
   ]
  },
  {
   "cell_type": "code",
   "execution_count": 16,
   "metadata": {
    "collapsed": false
   },
   "outputs": [
    {
     "data": {
      "text/plain": [
       "nbformat.notebooknode.NotebookNode"
      ]
     },
     "execution_count": 16,
     "metadata": {},
     "output_type": "execute_result"
    }
   ],
   "source": [
    "type(inb)"
   ]
  },
  {
   "cell_type": "code",
   "execution_count": 17,
   "metadata": {
    "collapsed": false
   },
   "outputs": [
    {
     "data": {
      "text/plain": [
       "[u'nbformat_minor', u'cells', u'nbformat', u'metadata']"
      ]
     },
     "execution_count": 17,
     "metadata": {},
     "output_type": "execute_result"
    }
   ],
   "source": [
    "inb.keys()"
   ]
  },
  {
   "cell_type": "code",
   "execution_count": 18,
   "metadata": {
    "collapsed": false
   },
   "outputs": [
    {
     "data": {
      "text/plain": [
       "{u'anaconda-cloud': {},\n",
       " u'kernelspec': {u'display_name': u'Python [Root]',\n",
       "  u'language': u'python',\n",
       "  u'name': u'Python [Root]'},\n",
       " u'language_info': {u'codemirror_mode': {u'name': u'ipython', u'version': 2},\n",
       "  u'file_extension': u'.py',\n",
       "  u'mimetype': u'text/x-python',\n",
       "  u'name': u'python',\n",
       "  u'nbconvert_exporter': u'python',\n",
       "  u'pygments_lexer': u'ipython2',\n",
       "  u'version': u'2.7.12'}}"
      ]
     },
     "execution_count": 18,
     "metadata": {},
     "output_type": "execute_result"
    }
   ],
   "source": [
    "inb.metadata"
   ]
  },
  {
   "cell_type": "code",
   "execution_count": 19,
   "metadata": {
    "collapsed": true
   },
   "outputs": [],
   "source": [
    "cells = inb['cells']"
   ]
  },
  {
   "cell_type": "code",
   "execution_count": 20,
   "metadata": {
    "collapsed": false
   },
   "outputs": [
    {
     "data": {
      "text/plain": [
       "list"
      ]
     },
     "execution_count": 20,
     "metadata": {},
     "output_type": "execute_result"
    }
   ],
   "source": [
    "type(cells)"
   ]
  },
  {
   "cell_type": "code",
   "execution_count": 21,
   "metadata": {
    "collapsed": false
   },
   "outputs": [
    {
     "data": {
      "text/plain": [
       "45"
      ]
     },
     "execution_count": 21,
     "metadata": {},
     "output_type": "execute_result"
    }
   ],
   "source": [
    "len(cells)"
   ]
  },
  {
   "cell_type": "code",
   "execution_count": 22,
   "metadata": {
    "collapsed": false
   },
   "outputs": [
    {
     "data": {
      "text/plain": [
       "list"
      ]
     },
     "execution_count": 22,
     "metadata": {},
     "output_type": "execute_result"
    }
   ],
   "source": [
    "type(cells)"
   ]
  },
  {
   "cell_type": "code",
   "execution_count": 95,
   "metadata": {
    "collapsed": false
   },
   "outputs": [
    {
     "name": "stdout",
     "output_type": "stream",
     "text": [
      "====== markdown ======\n",
      "# Notebook-8: Introduction to Functions\n",
      "====== markdown ======\n",
      "### Lesson Content \n",
      "\n",
      "- Function Anatomy 101\n",
      "    - Function definiton & call\n",
      "    - Arguments\n",
      "...\n",
      "====== markdown ======\n",
      "## Functions 101\n",
      "\n",
      "We've already met and used some functions, especially when we dealt with lists and dictionaries:\n",
      "====== code ======\n",
      "myList = [1,\"two\", False, 9.99]\n",
      "print len(myList) # A function\n",
      "print myList.index(\"two\") # A different function!\n",
      "print range(len(myList)) # Results of one function passed to another function!!!\n",
      "====== markdown ======\n",
      "That last one bears a closer look! To make it more clear we could rewrite it:\n",
      "```python\n",
      "range(\n",
      "    len(myList)\n",
      ")\n",
      "...\n"
     ]
    }
   ],
   "source": [
    "dump_nb(inb)"
   ]
  },
  {
   "cell_type": "markdown",
   "metadata": {},
   "source": [
    "## Let's replace the cells in the in-memory notebook to create a new one"
   ]
  },
  {
   "cell_type": "code",
   "execution_count": 26,
   "metadata": {
    "collapsed": true
   },
   "outputs": [],
   "source": [
    "# extract only every other cell\n",
    "new_cells = [ c for i,c in enumerate(cells) if i%2]"
   ]
  },
  {
   "cell_type": "code",
   "execution_count": 27,
   "metadata": {
    "collapsed": false
   },
   "outputs": [
    {
     "data": {
      "text/plain": [
       "22"
      ]
     },
     "execution_count": 27,
     "metadata": {},
     "output_type": "execute_result"
    }
   ],
   "source": [
    "len(new_cells)"
   ]
  },
  {
   "cell_type": "code",
   "execution_count": 28,
   "metadata": {
    "collapsed": true
   },
   "outputs": [],
   "source": [
    "inb['cells'] = new_cells"
   ]
  },
  {
   "cell_type": "code",
   "execution_count": 29,
   "metadata": {
    "collapsed": true
   },
   "outputs": [],
   "source": [
    "with io.open('smaller.ipynb', 'w', encoding='utf8') as f:\n",
    "    nbformat.write(inb, f, nbformat.NO_CONVERT)"
   ]
  },
  {
   "cell_type": "code",
   "execution_count": 30,
   "metadata": {
    "collapsed": true
   },
   "outputs": [],
   "source": [
    "snb = read_nb('smaller.ipynb')"
   ]
  },
  {
   "cell_type": "code",
   "execution_count": 31,
   "metadata": {
    "collapsed": false
   },
   "outputs": [
    {
     "data": {
      "text/plain": [
       "22"
      ]
     },
     "execution_count": 31,
     "metadata": {},
     "output_type": "execute_result"
    }
   ],
   "source": [
    "len(snb.cells)"
   ]
  },
  {
   "cell_type": "markdown",
   "metadata": {},
   "source": [
    "## Notebook Cells"
   ]
  },
  {
   "cell_type": "code",
   "execution_count": 32,
   "metadata": {
    "collapsed": true
   },
   "outputs": [],
   "source": [
    "c0 = snb.cells[0]"
   ]
  },
  {
   "cell_type": "code",
   "execution_count": 33,
   "metadata": {
    "collapsed": false
   },
   "outputs": [
    {
     "data": {
      "text/plain": [
       "nbformat.notebooknode.NotebookNode"
      ]
     },
     "execution_count": 33,
     "metadata": {},
     "output_type": "execute_result"
    }
   ],
   "source": [
    "type(c0)"
   ]
  },
  {
   "cell_type": "code",
   "execution_count": 34,
   "metadata": {
    "collapsed": false
   },
   "outputs": [
    {
     "data": {
      "text/plain": [
       "[u'source', u'cell_type', u'metadata']"
      ]
     },
     "execution_count": 34,
     "metadata": {},
     "output_type": "execute_result"
    }
   ],
   "source": [
    "c0.keys()"
   ]
  },
  {
   "cell_type": "code",
   "execution_count": 35,
   "metadata": {
    "collapsed": false
   },
   "outputs": [
    {
     "data": {
      "text/plain": [
       "u'markdown'"
      ]
     },
     "execution_count": 35,
     "metadata": {},
     "output_type": "execute_result"
    }
   ],
   "source": [
    "c0['cell_type']"
   ]
  },
  {
   "cell_type": "code",
   "execution_count": 36,
   "metadata": {
    "collapsed": false
   },
   "outputs": [
    {
     "data": {
      "text/plain": [
       "u'### Lesson Content \\n\\n- Function Anatomy 101\\n    - Function definiton & call\\n    - Arguments\\n    - Return statement\\n- Function calling!\\n    - Assign a function to a variable\\n    - Function as a parameter to another function\\n\\n\\nWelcome to the eighth Code Camp notebook! In this lesson we\\'ll cover *functions* in Python, a concept that you\\'ve already encountered but to which you\\'ve not yet been formally introduced. Now we\\'re going to dig into this a little bit more because writing functions is where lazy programmers become good programmers.\\n\\nIn other words, as we saw with the concept of *iteration*, programmers are lazy and they tend want to avoid doing boring tasks over and over again. The idea is to avoid \"wasting time re-inventing the wheel\" and programmers have abbreviated this idea to the acronym **D.R.Y.** (Do not Repeat Yourself): if you are doing something more than once or twice, ask yourself if there\\'s a way to encapsulate what you are doing in a function: you write the function _once_, and then _call_ it whenever you need to complete that task.\\n\\n![automate](img/automate_all_the_things.jpeg)\\n\\nNaturally, **D.R.Y.** has its opposite: **W.E.T.** (We Enjoy Typing or Write Everything Twice). Dry is nearly always better than wet.\\n\\nEncapsulating regularly-used bits of code in functions has several advantages:\\n* Your code is more readable: because you only have to write a function once and can then re-use it as many times as you like, your files are shorter.\\n* Your code is easier to maintain: because you only have to write a function once, if you find a mistake in your code, you also only have to fix it in one place.\\n* Your can code more quickly: things that you do a _lot_ can even be stuck in a separate file that you _import_ into your code so that your most-used functions are immediately available.\\n\\nBasically, a function is a way to _do_ something _to_ something in a portable, easy-to-use little bundle of code.'"
      ]
     },
     "execution_count": 36,
     "metadata": {},
     "output_type": "execute_result"
    }
   ],
   "source": [
    "c0['source']"
   ]
  },
  {
   "cell_type": "code",
   "execution_count": 37,
   "metadata": {
    "collapsed": false
   },
   "outputs": [
    {
     "data": {
      "text/plain": [
       "{}"
      ]
     },
     "execution_count": 37,
     "metadata": {},
     "output_type": "execute_result"
    }
   ],
   "source": [
    "c0['metadata']"
   ]
  },
  {
   "cell_type": "markdown",
   "metadata": {},
   "source": [
    "## Types of cells in  this notebook"
   ]
  },
  {
   "cell_type": "code",
   "execution_count": 38,
   "metadata": {
    "collapsed": false
   },
   "outputs": [],
   "source": [
    "from collections import defaultdict\n",
    "def get_structure(cells):\n",
    "    cell_types = defaultdict(list)\n",
    "    for i, cell in enumerate(cells):\n",
    "        cell_types[cell.cell_type].append(i)\n",
    "    return cell_types\n",
    "            "
   ]
  },
  {
   "cell_type": "code",
   "execution_count": 39,
   "metadata": {
    "collapsed": true
   },
   "outputs": [],
   "source": [
    "cell_types = get_structure(snb.cells)"
   ]
  },
  {
   "cell_type": "code",
   "execution_count": 40,
   "metadata": {
    "collapsed": false
   },
   "outputs": [
    {
     "data": {
      "text/plain": [
       "[u'code', u'markdown']"
      ]
     },
     "execution_count": 40,
     "metadata": {},
     "output_type": "execute_result"
    }
   ],
   "source": [
    "cell_types.keys()"
   ]
  },
  {
   "cell_type": "code",
   "execution_count": 41,
   "metadata": {
    "collapsed": false
   },
   "outputs": [
    {
     "name": "stdout",
     "output_type": "stream",
     "text": [
      "Cell Type: code\t 10 cells\n",
      "Cell Type: markdown\t 12 cells\n"
     ]
    }
   ],
   "source": [
    "for ct, cells in cell_types.items():\n",
    "    print('Cell Type: %s\\t %d cells'% (ct, len(cells)))"
   ]
  },
  {
   "cell_type": "code",
   "execution_count": 42,
   "metadata": {
    "collapsed": false
   },
   "outputs": [
    {
     "data": {
      "text/plain": [
       "1"
      ]
     },
     "execution_count": 42,
     "metadata": {},
     "output_type": "execute_result"
    }
   ],
   "source": [
    "code_cell_idx = cell_types['code'][0]\n",
    "code_cell_idx"
   ]
  },
  {
   "cell_type": "code",
   "execution_count": 43,
   "metadata": {
    "collapsed": false
   },
   "outputs": [
    {
     "data": {
      "text/plain": [
       "{u'cell_type': u'code',\n",
       " u'execution_count': None,\n",
       " u'metadata': {u'collapsed': False},\n",
       " u'outputs': [],\n",
       " u'source': u'myList = [1,\"two\", False, 9.99]\\nprint len(myList) # A function\\nprint myList.index(\"two\") # A different function!\\nprint range(len(myList)) # Results of one function passed to another function!!!'}"
      ]
     },
     "execution_count": 43,
     "metadata": {},
     "output_type": "execute_result"
    }
   ],
   "source": [
    "snb.cells[code_cell_idx]"
   ]
  },
  {
   "cell_type": "code",
   "execution_count": 44,
   "metadata": {
    "collapsed": false
   },
   "outputs": [
    {
     "data": {
      "text/plain": [
       "0"
      ]
     },
     "execution_count": 44,
     "metadata": {},
     "output_type": "execute_result"
    }
   ],
   "source": [
    "mkd_cell_idx = cell_types['markdown'][0]\n",
    "mkd_cell_idx"
   ]
  },
  {
   "cell_type": "code",
   "execution_count": 45,
   "metadata": {
    "collapsed": false
   },
   "outputs": [
    {
     "data": {
      "text/plain": [
       "{u'cell_type': u'markdown',\n",
       " u'metadata': {},\n",
       " u'source': u'### Lesson Content \\n\\n- Function Anatomy 101\\n    - Function definiton & call\\n    - Arguments\\n    - Return statement\\n- Function calling!\\n    - Assign a function to a variable\\n    - Function as a parameter to another function\\n\\n\\nWelcome to the eighth Code Camp notebook! In this lesson we\\'ll cover *functions* in Python, a concept that you\\'ve already encountered but to which you\\'ve not yet been formally introduced. Now we\\'re going to dig into this a little bit more because writing functions is where lazy programmers become good programmers.\\n\\nIn other words, as we saw with the concept of *iteration*, programmers are lazy and they tend want to avoid doing boring tasks over and over again. The idea is to avoid \"wasting time re-inventing the wheel\" and programmers have abbreviated this idea to the acronym **D.R.Y.** (Do not Repeat Yourself): if you are doing something more than once or twice, ask yourself if there\\'s a way to encapsulate what you are doing in a function: you write the function _once_, and then _call_ it whenever you need to complete that task.\\n\\n![automate](img/automate_all_the_things.jpeg)\\n\\nNaturally, **D.R.Y.** has its opposite: **W.E.T.** (We Enjoy Typing or Write Everything Twice). Dry is nearly always better than wet.\\n\\nEncapsulating regularly-used bits of code in functions has several advantages:\\n* Your code is more readable: because you only have to write a function once and can then re-use it as many times as you like, your files are shorter.\\n* Your code is easier to maintain: because you only have to write a function once, if you find a mistake in your code, you also only have to fix it in one place.\\n* Your can code more quickly: things that you do a _lot_ can even be stuck in a separate file that you _import_ into your code so that your most-used functions are immediately available.\\n\\nBasically, a function is a way to _do_ something _to_ something in a portable, easy-to-use little bundle of code.'}"
      ]
     },
     "execution_count": 45,
     "metadata": {},
     "output_type": "execute_result"
    }
   ],
   "source": [
    "snb.cells[mkd_cell_idx]"
   ]
  },
  {
   "cell_type": "markdown",
   "metadata": {},
   "source": [
    "## Turning Output Cells OFF"
   ]
  },
  {
   "cell_type": "code",
   "execution_count": 46,
   "metadata": {
    "collapsed": true
   },
   "outputs": [],
   "source": [
    "def remove_outputs(nb):\n",
    "    \"\"\"Set output attribute of all code cells to be empty\"\"\"\n",
    "    for cell in nb.cells:\n",
    "        if cell.cell_type == 'code':\n",
    "            cell.outputs = []\n",
    "\n",
    "def clear_notebook(old_ipynb, new_ipynb):\n",
    "    with io.open(old_ipynb, 'r') as f:\n",
    "        nb = nbformat.read(f, nbformat.NO_CONVERT)\n",
    "\n",
    "    remove_outputs(nb)\n",
    "    \n",
    "    with io.open(new_ipynb, 'w', encoding='utf8') as f:\n",
    "        nbformat.write(nb, f, nbformat.NO_CONVERT)\n",
    "\n",
    "source_nb = 'atoms/visualization/choropleth_classification.ipynb'\n",
    "\n",
    "new_nb = 'nout.ipynb'\n",
    "clear_notebook(source_nb, new_nb)"
   ]
  },
  {
   "cell_type": "markdown",
   "metadata": {
    "collapsed": true
   },
   "source": [
    "## Importing by Type\n",
    "\n",
    "```\n",
    "@include {\n",
    "    'resource' = 'http://geopyter.org/atoms/fundamentals/lists.ipynb',\n",
    "    'select' = 'h1.Understanding Lists'\n",
    "}\n",
    "```"
   ]
  },
  {
   "cell_type": "code",
   "execution_count": 185,
   "metadata": {
    "collapsed": false
   },
   "outputs": [
    {
     "name": "stdout",
     "output_type": "stream",
     "text": [
      "Clear: True\n",
      "## Layout of a Function\n",
      "### Function Definition\n"
     ]
    }
   ],
   "source": [
    "import re\n",
    "def transHeader(matchobj):\n",
    "    return matchobj.group(1) + '#' * int(matchobj.group(2))\n",
    "\n",
    "def parseSelect(s): \n",
    "    t = [ re.sub(r'(-?)h(\\d+)', lambda matchobj: matchobj.group(1) + '#' * int(matchobj.group(2)), x, flags=re.IGNORECASE) for x in re.split(r'\\s*(\\-?h\\d+)\\.', s) ]\n",
    "    for i in xrange(1, len(t), 2):\n",
    "        print ' '.join([t[i], t[i+1]])\n",
    "    \n",
    "def includeContent(nb, select=None, ctype=None, clear=True):\n",
    "    \"\"\"Import content from another notebook:\n",
    "    * select: specification of content within notebook to include/exclude\n",
    "    * version: specify a particular version of a notebook to use (via Git/GitHub)\n",
    "    * ctype: code/markdown; specify only code or only markdown cell types for including?\n",
    "    * clear: boolean; clear outputs while importing?\n",
    "    Other params?\n",
    "    \"\"\"\n",
    "    \n",
    "    # Read the notebook into a composition\n",
    "    cnb = read_nb(nb)\n",
    "    \n",
    "    # If we only want to *keep* the specified\n",
    "    # cell type and delete all others...\n",
    "    if ctype is not None:\n",
    "        print(\"Ctype: \" + str(ctype))\n",
    "        ctypes = get_structure(cnb.cells)\n",
    "        for t in ctypes.keys():\n",
    "            if t != ctype:\n",
    "                #print(\"Deleting type \" + t)\n",
    "                for c in xrange(len(ctypes[t])-1,-1,-1):\n",
    "                    #print(\"Deleting: \" + str(ctypes[t][c]))\n",
    "                    del cnb.cells[ctypes[t][c]]\n",
    "    \n",
    "    # Remove any code output from the included \n",
    "    # notebook as part of the process\n",
    "    if clear is True:\n",
    "        print(\"Clear: \" + str(clear))\n",
    "        remove_outputs(cnb)\n",
    "    \n",
    "    # Now the 'magic' (I'm probably not writing\n",
    "    # great Python code here though...)\n",
    "    if select is not None:\n",
    "        # =====\n",
    "        # The data structure here needs some thought,\n",
    "        # but for now I'm going with a dictionary of \n",
    "        # dictionaries...\n",
    "        # =====\n",
    "        patterns = {}\n",
    "        \n",
    "        # Split on semi-colons in the select statement\n",
    "        selections = select.split(\";\")\n",
    "        \n",
    "        # And now break each statement into sub-selects\n",
    "        for s in selections:\n",
    "            parseSelect(s)\n",
    "        \n",
    "        #for c in cnb.cells:\n",
    "            \n",
    "    \n",
    "    return cnb\n",
    "\n",
    "foo = includeContent('atoms/foundations/Functions.ipynb', select='h2.Layout of a Function h3.Function Definition')\n",
    "write_nb(foo, 'test')"
   ]
  },
  {
   "cell_type": "code",
   "execution_count": null,
   "metadata": {
    "collapsed": true
   },
   "outputs": [],
   "source": []
  }
 ],
 "metadata": {
  "anaconda-cloud": {},
  "kernelspec": {
   "display_name": "Python [Root]",
   "language": "python",
   "name": "Python [Root]"
  },
  "language_info": {
   "codemirror_mode": {
    "name": "ipython",
    "version": 2
   },
   "file_extension": ".py",
   "mimetype": "text/x-python",
   "name": "python",
   "nbconvert_exporter": "python",
   "pygments_lexer": "ipython2",
   "version": "2.7.12"
  }
 },
 "nbformat": 4,
 "nbformat_minor": 0
}
