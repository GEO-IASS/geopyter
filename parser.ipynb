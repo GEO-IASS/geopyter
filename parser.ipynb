{
 "cells": [
  {
   "cell_type": "markdown",
   "metadata": {},
   "source": [
    "# Parsing Jupyter Notebooks"
   ]
  },
  {
   "cell_type": "code",
   "execution_count": 1,
   "metadata": {
    "collapsed": true
   },
   "outputs": [],
   "source": [
    "import nbformat\n",
    "import io"
   ]
  },
  {
   "cell_type": "markdown",
   "metadata": {},
   "source": [
    "# Reading Notebooks"
   ]
  },
  {
   "cell_type": "code",
   "execution_count": 2,
   "metadata": {
    "collapsed": true
   },
   "outputs": [],
   "source": [
    "def read_nb(nb):\n",
    "    with io.open(nb, 'r', encoding='utf8') as f:\n",
    "        nb = nbformat.read(f, nbformat.NO_CONVERT)\n",
    "    return nb\n",
    "\n",
    "def write_nb(nb, fn):\n",
    "    if not fn.endswith('.ipynb'):\n",
    "        fn += '.ipynb'\n",
    "    with io.open(fn, 'w', encoding='utf8') as f:\n",
    "        nbformat.write(nb, f, nbformat.NO_CONVERT)\n",
    "\n",
    "def dump_nb(nb, cells=5, lines=5):\n",
    "    for c in xrange(0, cells):\n",
    "        print(\"====== \" + nb.cells[c]['cell_type'] + \" ======\")\n",
    "        src = nb.cells[c]['source'].splitlines()\n",
    "        if len(src) > lines:\n",
    "            print('\\n'.join(src[0:lines]))\n",
    "            print(\"...\")\n",
    "        else:\n",
    "            print(nb.cells[c]['source'])"
   ]
  },
  {
   "cell_type": "code",
   "execution_count": 3,
   "metadata": {
    "collapsed": false
   },
   "outputs": [],
   "source": [
    "source_nb = 'atoms/visualization/choropleth_classification.ipynb'\n",
    "\n",
    "inb = read_nb(source_nb)"
   ]
  },
  {
   "cell_type": "code",
   "execution_count": 4,
   "metadata": {
    "collapsed": false
   },
   "outputs": [
    {
     "data": {
      "text/plain": [
       "nbformat.notebooknode.NotebookNode"
      ]
     },
     "execution_count": 4,
     "metadata": {},
     "output_type": "execute_result"
    }
   ],
   "source": [
    "type(inb)"
   ]
  },
  {
   "cell_type": "code",
   "execution_count": 5,
   "metadata": {
    "collapsed": false
   },
   "outputs": [
    {
     "data": {
      "text/plain": [
       "[u'nbformat_minor', u'cells', u'nbformat', u'metadata']"
      ]
     },
     "execution_count": 5,
     "metadata": {},
     "output_type": "execute_result"
    }
   ],
   "source": [
    "inb.keys()"
   ]
  },
  {
   "cell_type": "code",
   "execution_count": 6,
   "metadata": {
    "collapsed": false
   },
   "outputs": [
    {
     "data": {
      "text/plain": [
       "{u'anaconda-cloud': {},\n",
       " u'kernelspec': {u'display_name': u'Python [Root]',\n",
       "  u'language': u'python',\n",
       "  u'name': u'Python [Root]'},\n",
       " u'language_info': {u'codemirror_mode': {u'name': u'ipython', u'version': 3},\n",
       "  u'file_extension': u'.py',\n",
       "  u'mimetype': u'text/x-python',\n",
       "  u'name': u'python',\n",
       "  u'nbconvert_exporter': u'python',\n",
       "  u'pygments_lexer': u'ipython3',\n",
       "  u'version': u'3.5.2'}}"
      ]
     },
     "execution_count": 6,
     "metadata": {},
     "output_type": "execute_result"
    }
   ],
   "source": [
    "inb.metadata"
   ]
  },
  {
   "cell_type": "code",
   "execution_count": 7,
   "metadata": {
    "collapsed": true
   },
   "outputs": [],
   "source": [
    "cells = inb['cells']"
   ]
  },
  {
   "cell_type": "code",
   "execution_count": 8,
   "metadata": {
    "collapsed": false
   },
   "outputs": [
    {
     "data": {
      "text/plain": [
       "list"
      ]
     },
     "execution_count": 8,
     "metadata": {},
     "output_type": "execute_result"
    }
   ],
   "source": [
    "type(cells)"
   ]
  },
  {
   "cell_type": "code",
   "execution_count": 9,
   "metadata": {
    "collapsed": false
   },
   "outputs": [
    {
     "data": {
      "text/plain": [
       "99"
      ]
     },
     "execution_count": 9,
     "metadata": {},
     "output_type": "execute_result"
    }
   ],
   "source": [
    "len(cells)"
   ]
  },
  {
   "cell_type": "code",
   "execution_count": 10,
   "metadata": {
    "collapsed": false
   },
   "outputs": [
    {
     "data": {
      "text/plain": [
       "list"
      ]
     },
     "execution_count": 10,
     "metadata": {},
     "output_type": "execute_result"
    }
   ],
   "source": [
    "type(cells)"
   ]
  },
  {
   "cell_type": "code",
   "execution_count": 11,
   "metadata": {
    "collapsed": false
   },
   "outputs": [
    {
     "name": "stdout",
     "output_type": "stream",
     "text": [
      "====== markdown ======\n",
      "# Classification for Choropleth Mapping\n",
      "\n",
      "====== markdown ======\n",
      "## Introduction\n",
      "\n",
      "* what is classification\n",
      "* role in choropleth mapping\n",
      "* explore classification using PySAL\n",
      "====== code ======\n",
      "import pysal as ps\n",
      "====== markdown ======\n",
      "## Data Set: Mexico State Gross Domestic Product\n",
      "====== code ======\n",
      "ps.examples.available()\n"
     ]
    }
   ],
   "source": [
    "dump_nb(inb)"
   ]
  },
  {
   "cell_type": "markdown",
   "metadata": {},
   "source": [
    "## Let's replace the cells in the in-memory notebook to create a new one"
   ]
  },
  {
   "cell_type": "code",
   "execution_count": 12,
   "metadata": {
    "collapsed": true
   },
   "outputs": [],
   "source": [
    "# extract only ever other cell\n",
    "new_cells = [ c for i,c in enumerate(cells) if i%2]"
   ]
  },
  {
   "cell_type": "code",
   "execution_count": 13,
   "metadata": {
    "collapsed": false
   },
   "outputs": [
    {
     "data": {
      "text/plain": [
       "49"
      ]
     },
     "execution_count": 13,
     "metadata": {},
     "output_type": "execute_result"
    }
   ],
   "source": [
    "len(new_cells)"
   ]
  },
  {
   "cell_type": "code",
   "execution_count": 14,
   "metadata": {
    "collapsed": true
   },
   "outputs": [],
   "source": [
    "inb['cells'] = new_cells"
   ]
  },
  {
   "cell_type": "code",
   "execution_count": 15,
   "metadata": {
    "collapsed": true
   },
   "outputs": [],
   "source": [
    "with io.open('smaller.ipynb', 'w', encoding='utf8') as f:\n",
    "    nbformat.write(inb, f, nbformat.NO_CONVERT)"
   ]
  },
  {
   "cell_type": "code",
   "execution_count": 16,
   "metadata": {
    "collapsed": true
   },
   "outputs": [],
   "source": [
    "snb = read_nb('smaller.ipynb')"
   ]
  },
  {
   "cell_type": "code",
   "execution_count": 17,
   "metadata": {
    "collapsed": false
   },
   "outputs": [
    {
     "data": {
      "text/plain": [
       "49"
      ]
     },
     "execution_count": 17,
     "metadata": {},
     "output_type": "execute_result"
    }
   ],
   "source": [
    "len(snb.cells)"
   ]
  },
  {
   "cell_type": "markdown",
   "metadata": {},
   "source": [
    "## Notebook Cells"
   ]
  },
  {
   "cell_type": "code",
   "execution_count": 18,
   "metadata": {
    "collapsed": true
   },
   "outputs": [],
   "source": [
    "c0 = snb.cells[0]"
   ]
  },
  {
   "cell_type": "code",
   "execution_count": 19,
   "metadata": {
    "collapsed": false
   },
   "outputs": [
    {
     "data": {
      "text/plain": [
       "nbformat.notebooknode.NotebookNode"
      ]
     },
     "execution_count": 19,
     "metadata": {},
     "output_type": "execute_result"
    }
   ],
   "source": [
    "type(c0)"
   ]
  },
  {
   "cell_type": "code",
   "execution_count": 20,
   "metadata": {
    "collapsed": false
   },
   "outputs": [
    {
     "data": {
      "text/plain": [
       "[u'source', u'cell_type', u'metadata']"
      ]
     },
     "execution_count": 20,
     "metadata": {},
     "output_type": "execute_result"
    }
   ],
   "source": [
    "c0.keys()"
   ]
  },
  {
   "cell_type": "code",
   "execution_count": 21,
   "metadata": {
    "collapsed": false
   },
   "outputs": [
    {
     "data": {
      "text/plain": [
       "u'markdown'"
      ]
     },
     "execution_count": 21,
     "metadata": {},
     "output_type": "execute_result"
    }
   ],
   "source": [
    "c0['cell_type']"
   ]
  },
  {
   "cell_type": "code",
   "execution_count": 22,
   "metadata": {
    "collapsed": false
   },
   "outputs": [
    {
     "data": {
      "text/plain": [
       "u'## Introduction\\n\\n* what is classification\\n* role in choropleth mapping\\n* explore classification using PySAL'"
      ]
     },
     "execution_count": 22,
     "metadata": {},
     "output_type": "execute_result"
    }
   ],
   "source": [
    "c0['source']"
   ]
  },
  {
   "cell_type": "code",
   "execution_count": 23,
   "metadata": {
    "collapsed": false
   },
   "outputs": [
    {
     "data": {
      "text/plain": [
       "{u'collapsed': True}"
      ]
     },
     "execution_count": 23,
     "metadata": {},
     "output_type": "execute_result"
    }
   ],
   "source": [
    "c0['metadata']"
   ]
  },
  {
   "cell_type": "markdown",
   "metadata": {},
   "source": [
    "## Types of cells in  this notebook"
   ]
  },
  {
   "cell_type": "code",
   "execution_count": 24,
   "metadata": {
    "collapsed": false
   },
   "outputs": [],
   "source": [
    "from collections import defaultdict\n",
    "def get_structure(cells):\n",
    "    cell_types = defaultdict(list)\n",
    "    for i, cell in enumerate(cells):\n",
    "        cell_types[cell.cell_type].append(i)\n",
    "    return cell_types\n",
    "            "
   ]
  },
  {
   "cell_type": "code",
   "execution_count": 25,
   "metadata": {
    "collapsed": true
   },
   "outputs": [],
   "source": [
    "cell_types = get_structure(snb.cells)"
   ]
  },
  {
   "cell_type": "code",
   "execution_count": 26,
   "metadata": {
    "collapsed": false
   },
   "outputs": [
    {
     "data": {
      "text/plain": [
       "[u'code', u'markdown']"
      ]
     },
     "execution_count": 26,
     "metadata": {},
     "output_type": "execute_result"
    }
   ],
   "source": [
    "cell_types.keys()"
   ]
  },
  {
   "cell_type": "code",
   "execution_count": 27,
   "metadata": {
    "collapsed": false
   },
   "outputs": [
    {
     "name": "stdout",
     "output_type": "stream",
     "text": [
      "Cell Type: code\t 38 cells\n",
      "Cell Type: markdown\t 11 cells\n"
     ]
    }
   ],
   "source": [
    "for ct, cells in cell_types.items():\n",
    "    print('Cell Type: %s\\t %d cells'% (ct, len(cells)))"
   ]
  },
  {
   "cell_type": "code",
   "execution_count": 28,
   "metadata": {
    "collapsed": false
   },
   "outputs": [
    {
     "data": {
      "text/plain": [
       "2"
      ]
     },
     "execution_count": 28,
     "metadata": {},
     "output_type": "execute_result"
    }
   ],
   "source": [
    "code_cell_idx = cell_types['code'][0]\n",
    "code_cell_idx"
   ]
  },
  {
   "cell_type": "code",
   "execution_count": 29,
   "metadata": {
    "collapsed": false
   },
   "outputs": [
    {
     "data": {
      "text/plain": [
       "{u'cell_type': u'code',\n",
       " u'execution_count': 3,\n",
       " u'metadata': {u'collapsed': False},\n",
       " u'outputs': [{u'data': {u'text/plain': u'{\\'description\\': \\'Mexican states regional income 1940-2000\\',\\n \\'explanation\\': [\\'Data used in   Rey, S.J. and M.L.  Sastre Gutierrez. (2010) \"Interregional inequality\\',\\n  \\'dynamics in Mexico.\" Spatial Economic Analysis, 5: 277-298\\',\\n  \\'* mexico.csv: attribute data\\',\\n  \\'* mexico.gal: spatial weights in GAL format\\',\\n  \\'Polygon data, n=32, k=13\\'],\\n \\'name\\': \\'mexico\\'}'},\n",
       "   u'execution_count': 3,\n",
       "   u'metadata': {},\n",
       "   u'output_type': u'execute_result'}],\n",
       " u'source': u\"ps.examples.explain('mexico')\"}"
      ]
     },
     "execution_count": 29,
     "metadata": {},
     "output_type": "execute_result"
    }
   ],
   "source": [
    "snb.cells[code_cell_idx]"
   ]
  },
  {
   "cell_type": "code",
   "execution_count": 30,
   "metadata": {
    "collapsed": false
   },
   "outputs": [
    {
     "data": {
      "text/plain": [
       "0"
      ]
     },
     "execution_count": 30,
     "metadata": {},
     "output_type": "execute_result"
    }
   ],
   "source": [
    "mkd_cell_idx = cell_types['markdown'][0]\n",
    "mkd_cell_idx"
   ]
  },
  {
   "cell_type": "code",
   "execution_count": 31,
   "metadata": {
    "collapsed": false
   },
   "outputs": [
    {
     "data": {
      "text/plain": [
       "{u'cell_type': u'markdown',\n",
       " u'metadata': {u'collapsed': True},\n",
       " u'source': u'## Introduction\\n\\n* what is classification\\n* role in choropleth mapping\\n* explore classification using PySAL'}"
      ]
     },
     "execution_count": 31,
     "metadata": {},
     "output_type": "execute_result"
    }
   ],
   "source": [
    "snb.cells[mkd_cell_idx]"
   ]
  },
  {
   "cell_type": "markdown",
   "metadata": {},
   "source": [
    "## Turning Output Cells OFF"
   ]
  },
  {
   "cell_type": "code",
   "execution_count": 32,
   "metadata": {
    "collapsed": true
   },
   "outputs": [],
   "source": [
    "def remove_outputs(nb):\n",
    "    \"\"\"Set output attribute of all code cells to be empty\"\"\"\n",
    "    for cell in nb.cells:\n",
    "        if cell.cell_type == 'code':\n",
    "            cell.outputs = []\n",
    "\n",
    "def clear_notebook(old_ipynb, new_ipynb):\n",
    "    with io.open(old_ipynb, 'r') as f:\n",
    "        nb = nbformat.read(f, nbformat.NO_CONVERT)\n",
    "\n",
    "    remove_outputs(nb)\n",
    "    \n",
    "    with io.open(new_ipynb, 'w', encoding='utf8') as f:\n",
    "        nbformat.write(nb, f, nbformat.NO_CONVERT)\n",
    "\n",
    "source_nb = 'atoms/visualization/choropleth_classification.ipynb'\n",
    "\n",
    "new_nb = 'nout.ipynb'\n",
    "clear_notebook(source_nb, new_nb)"
   ]
  },
  {
   "cell_type": "markdown",
   "metadata": {
    "collapsed": true
   },
   "source": [
    "## Notebook Class for Querying"
   ]
  },
  {
   "cell_type": "code",
   "execution_count": 33,
   "metadata": {
    "collapsed": true
   },
   "outputs": [],
   "source": [
    "source_nb = 'atoms/visualization/choropleth_classification.ipynb'\n",
    "nb = read_nb(source_nb)"
   ]
  },
  {
   "cell_type": "code",
   "execution_count": 34,
   "metadata": {
    "collapsed": false
   },
   "outputs": [],
   "source": [
    "import re\n",
    "rh1 = re.compile('^# ')\n",
    "rh2 = re.compile('^## ')\n",
    "rh3 = re.compile('^### ')\n",
    "rh4 = re.compile('^#### ')\n",
    "rh = re.compile('^#+')\n",
    "\n",
    "class NoteBook(object):\n",
    "    def __init__(self, ipynb):\n",
    "        self.nb = read_nb(ipynb)\n",
    "        self.structure = get_structure(self.nb.cells)\n",
    "        \n",
    "    def get_cells_by_type(self, cell_type=None):\n",
    "        if cell_type:\n",
    "            cell_type = cell_type.lower()\n",
    "            return [self.nb.cells[i] for i in self.structure[cell_type]]\n",
    "        else:\n",
    "            return self.nb.cells\n",
    "    \n",
    "    def get_cells_by_id(self, ids=[]):\n",
    "        return [self.nb.cells[i] for i in ids]\n",
    "    \n",
    "    def get_header_cells(self):\n",
    "        hs = []\n",
    "        if 'markdown' in self.structure:\n",
    "            idxs = self.structure['markdown']\n",
    "            pairs = zip(idxs, self.get_cells_by_type('markdown'))\n",
    "            hs = [(idx, cell) for idx, cell in pairs if rh.match(cell['source'])]\n",
    "        return hs\n",
    "        \n",
    "        \n",
    "    "
   ]
  },
  {
   "cell_type": "code",
   "execution_count": 35,
   "metadata": {
    "collapsed": false
   },
   "outputs": [],
   "source": [
    "nb = NoteBook(source_nb)"
   ]
  },
  {
   "cell_type": "code",
   "execution_count": 36,
   "metadata": {
    "collapsed": true
   },
   "outputs": [],
   "source": [
    "cid = nb.get_cells_by_id()"
   ]
  },
  {
   "cell_type": "code",
   "execution_count": 37,
   "metadata": {
    "collapsed": false
   },
   "outputs": [
    {
     "data": {
      "text/plain": [
       "[]"
      ]
     },
     "execution_count": 37,
     "metadata": {},
     "output_type": "execute_result"
    }
   ],
   "source": [
    "cid"
   ]
  },
  {
   "cell_type": "code",
   "execution_count": 38,
   "metadata": {
    "collapsed": true
   },
   "outputs": [],
   "source": [
    "cid = nb.get_cells_by_id([7, 10, 2])"
   ]
  },
  {
   "cell_type": "code",
   "execution_count": 39,
   "metadata": {
    "collapsed": false
   },
   "outputs": [
    {
     "data": {
      "text/plain": [
       "[{u'cell_type': u'code',\n",
       "  u'execution_count': 5,\n",
       "  u'metadata': {u'collapsed': True},\n",
       "  u'outputs': [],\n",
       "  u'source': u\"y = f.by_col_array('pcgdp2000')\"},\n",
       " {u'cell_type': u'markdown',\n",
       "  u'metadata': {},\n",
       "  u'source': u'#### Sample Mean\\n\\n$\\\\bar{y} = \\\\sum_{i=1}^n y_i$'},\n",
       " {u'cell_type': u'code',\n",
       "  u'execution_count': 1,\n",
       "  u'metadata': {u'collapsed': True},\n",
       "  u'outputs': [],\n",
       "  u'source': u'import pysal as ps'}]"
      ]
     },
     "execution_count": 39,
     "metadata": {},
     "output_type": "execute_result"
    }
   ],
   "source": [
    "cid"
   ]
  },
  {
   "cell_type": "code",
   "execution_count": 40,
   "metadata": {
    "collapsed": false
   },
   "outputs": [
    {
     "data": {
      "text/plain": [
       "[(0,\n",
       "  {u'cell_type': u'markdown',\n",
       "   u'metadata': {},\n",
       "   u'source': u'# Classification for Choropleth Mapping\\n'}),\n",
       " (1,\n",
       "  {u'cell_type': u'markdown',\n",
       "   u'metadata': {u'collapsed': True},\n",
       "   u'source': u'## Introduction\\n\\n* what is classification\\n* role in choropleth mapping\\n* explore classification using PySAL'}),\n",
       " (3,\n",
       "  {u'cell_type': u'markdown',\n",
       "   u'metadata': {},\n",
       "   u'source': u'## Data Set: Mexico State Gross Domestic Product'}),\n",
       " (9,\n",
       "  {u'cell_type': u'markdown',\n",
       "   u'metadata': {},\n",
       "   u'source': u'### Numerical summaries'}),\n",
       " (10,\n",
       "  {u'cell_type': u'markdown',\n",
       "   u'metadata': {},\n",
       "   u'source': u'#### Sample Mean\\n\\n$\\\\bar{y} = \\\\sum_{i=1}^n y_i$'}),\n",
       " (12,\n",
       "  {u'cell_type': u'markdown',\n",
       "   u'metadata': {},\n",
       "   u'source': u'#### Sample Standard Deviation\\n\\n$\\\\hat{\\\\sigma} = \\\\sqrt{\\\\frac{\\\\sum_{i=1}^n (y_i-\\\\bar{y})^2}{n-1}}$'}),\n",
       " (14, {u'cell_type': u'markdown', u'metadata': {}, u'source': u'#### Median'}),\n",
       " (22,\n",
       "  {u'cell_type': u'markdown',\n",
       "   u'metadata': {},\n",
       "   u'source': u'### Univariate Distribution Visualization'}),\n",
       " (27,\n",
       "  {u'cell_type': u'markdown',\n",
       "   u'metadata': {},\n",
       "   u'source': u'## PySAL Classifiers'}),\n",
       " (28,\n",
       "  {u'cell_type': u'markdown', u'metadata': {}, u'source': u'### Quantiles'}),\n",
       " (35,\n",
       "  {u'cell_type': u'markdown',\n",
       "   u'metadata': {},\n",
       "   u'source': u'### Equal Interval'}),\n",
       " (37,\n",
       "  {u'cell_type': u'markdown',\n",
       "   u'metadata': {},\n",
       "   u'source': u'### Maximum Breaks'}),\n",
       " (39,\n",
       "  {u'cell_type': u'markdown', u'metadata': {}, u'source': u'### Box Plot'}),\n",
       " (41,\n",
       "  {u'cell_type': u'markdown',\n",
       "   u'metadata': {},\n",
       "   u'source': u'### Standard Deviation'}),\n",
       " (43,\n",
       "  {u'cell_type': u'markdown', u'metadata': {}, u'source': u'### Head Tail'}),\n",
       " (45,\n",
       "  {u'cell_type': u'markdown',\n",
       "   u'metadata': {},\n",
       "   u'source': u'### Jenks Caspall'}),\n",
       " (48,\n",
       "  {u'cell_type': u'markdown',\n",
       "   u'metadata': {},\n",
       "   u'source': u'### Fisher Jenks'}),\n",
       " (50, {u'cell_type': u'markdown', u'metadata': {}, u'source': u'### max-p'}),\n",
       " (52, {u'cell_type': u'markdown', u'metadata': {}, u'source': u'### Fit'}),\n",
       " (64,\n",
       "  {u'cell_type': u'markdown',\n",
       "   u'metadata': {},\n",
       "   u'source': u'## Consensus classification'})]"
      ]
     },
     "execution_count": 40,
     "metadata": {},
     "output_type": "execute_result"
    }
   ],
   "source": [
    "nb.get_header_cells()"
   ]
  },
  {
   "cell_type": "code",
   "execution_count": 41,
   "metadata": {
    "collapsed": true
   },
   "outputs": [],
   "source": [
    "hdict = defaultdict(list)\n",
    "for idx, cell in nb.get_header_cells():\n",
    "    level = cell['source'].count(\"#\")\n",
    "    hdict[level].append(idx)\n",
    "    "
   ]
  },
  {
   "cell_type": "code",
   "execution_count": 42,
   "metadata": {
    "collapsed": false
   },
   "outputs": [
    {
     "data": {
      "text/plain": [
       "defaultdict(list,\n",
       "            {1: [0],\n",
       "             2: [1, 3, 27, 64],\n",
       "             3: [9, 22, 28, 35, 37, 39, 41, 43, 45, 48, 50, 52],\n",
       "             4: [10, 12, 14]})"
      ]
     },
     "execution_count": 42,
     "metadata": {},
     "output_type": "execute_result"
    }
   ],
   "source": [
    "hdict"
   ]
  },
  {
   "cell_type": "code",
   "execution_count": 45,
   "metadata": {
    "collapsed": false
   },
   "outputs": [],
   "source": [
    "# find the start and end cells for each H? block\n",
    "keys = list(hdict.keys())\n",
    "keys.sort(reverse=True)\n",
    "all_keys = keys[:]\n",
    "start_end = []\n",
    "last_stop = len(nb.nb.cells)\n",
    "while keys:\n",
    "    current = keys.pop(0)\n",
    "    for element in hdict[current]:\n",
    "        above = [k for k in all_keys[:] if k <= current]\n",
    "        stop = last_stop\n",
    "        while above:\n",
    "            key_above = above.pop()\n",
    "            larger = [v for v in hdict[key_above] if v > element]\n",
    "            if larger:\n",
    "                if larger[0] < stop:\n",
    "                    stop = larger[0]\n",
    "        start_end.append([element, stop])\n",
    "        "
   ]
  },
  {
   "cell_type": "code",
   "execution_count": 46,
   "metadata": {
    "collapsed": false
   },
   "outputs": [
    {
     "data": {
      "text/plain": [
       "[[10, 12],\n",
       " [12, 14],\n",
       " [14, 22],\n",
       " [9, 22],\n",
       " [22, 27],\n",
       " [28, 35],\n",
       " [35, 37],\n",
       " [37, 39],\n",
       " [39, 41],\n",
       " [41, 43],\n",
       " [43, 45],\n",
       " [45, 48],\n",
       " [48, 50],\n",
       " [50, 52],\n",
       " [52, 64],\n",
       " [1, 3],\n",
       " [3, 27],\n",
       " [27, 64],\n",
       " [64, 99],\n",
       " [0, 99]]"
      ]
     },
     "execution_count": 46,
     "metadata": {},
     "output_type": "execute_result"
    }
   ],
   "source": [
    "start_end # for each H? cell report the start and end cells"
   ]
  },
  {
   "cell_type": "code",
   "execution_count": 47,
   "metadata": {
    "collapsed": false
   },
   "outputs": [
    {
     "data": {
      "text/plain": [
       "defaultdict(list,\n",
       "            {1: [0],\n",
       "             2: [1, 3, 27, 64],\n",
       "             3: [9, 22, 28, 35, 37, 39, 41, 43, 45, 48, 50, 52],\n",
       "             4: [10, 12, 14]})"
      ]
     },
     "execution_count": 47,
     "metadata": {},
     "output_type": "execute_result"
    }
   ],
   "source": [
    "hdict"
   ]
  },
  {
   "cell_type": "code",
   "execution_count": 48,
   "metadata": {
    "collapsed": false
   },
   "outputs": [
    {
     "data": {
      "text/plain": [
       "20"
      ]
     },
     "execution_count": 48,
     "metadata": {},
     "output_type": "execute_result"
    }
   ],
   "source": [
    "len(start_end)"
   ]
  },
  {
   "cell_type": "code",
   "execution_count": 49,
   "metadata": {
    "collapsed": false
   },
   "outputs": [
    {
     "data": {
      "text/plain": [
       "20"
      ]
     },
     "execution_count": 49,
     "metadata": {},
     "output_type": "execute_result"
    }
   ],
   "source": [
    "len(nb.get_header_cells())"
   ]
  },
  {
   "cell_type": "code",
   "execution_count": 50,
   "metadata": {
    "collapsed": false
   },
   "outputs": [
    {
     "name": "stdout",
     "output_type": "stream",
     "text": [
      "## Data Set: Mexico State Gross Domestic Product\n",
      "ps.examples.available()\n",
      "ps.examples.explain('mexico')\n",
      "f = ps.open(ps.examples.get_path('mexico.csv'))\n",
      "f.header\n",
      "y = f.by_col_array('pcgdp2000')\n",
      "y\n",
      "### Numerical summaries\n",
      "#### Sample Mean\n",
      "\n",
      "$\\bar{y} = \\sum_{i=1}^n y_i$\n",
      "y_mean = y.mean()\n",
      "y_mean\n",
      "#### Sample Standard Deviation\n",
      "\n",
      "$\\hat{\\sigma} = \\sqrt{\\frac{\\sum_{i=1}^n (y_i-\\bar{y})^2}{n-1}}$\n",
      "y_std = y.std()\n",
      "y_std\n",
      "#### Median\n",
      "import numpy as np\n",
      "y_median = np.median(y)\n",
      "y_median\n",
      "(y < y_mean).sum()\n",
      "(y > y_mean).sum()\n",
      "y_sorted = np.sort(y, axis=0)\n",
      "y_sorted\n",
      "y_sorted[15]\n",
      "y_sorted[16]\n",
      "(y_sorted[15]+y_sorted[16])/2.\n",
      "### Univariate Distribution Visualization\n",
      "%pylab inline\n",
      "import seaborn as sns\n",
      "sns.distplot(y)\n",
      "sns.distplot(y, kde=False, rug=True)\n",
      "sns.distplot(y, bins=5, kde=False, rug=True)\n",
      "sns.distplot(y, hist=False,  rug=True)\n"
     ]
    }
   ],
   "source": [
    "# second h2 section with all children\n",
    "se2 = [ v for v in start_end if v[0]==3][0]\n",
    "block = nb.get_cells_by_id(range(*se2))\n",
    "for cell in block:\n",
    "    print(cell['source'])"
   ]
  },
  {
   "cell_type": "code",
   "execution_count": 51,
   "metadata": {
    "collapsed": false
   },
   "outputs": [
    {
     "name": "stdout",
     "output_type": "stream",
     "text": [
      "### Numerical summaries\n",
      "#### Sample Mean\n",
      "\n",
      "$\\bar{y} = \\sum_{i=1}^n y_i$\n",
      "y_mean = y.mean()\n",
      "y_mean\n",
      "#### Sample Standard Deviation\n",
      "\n",
      "$\\hat{\\sigma} = \\sqrt{\\frac{\\sum_{i=1}^n (y_i-\\bar{y})^2}{n-1}}$\n",
      "y_std = y.std()\n",
      "y_std\n",
      "#### Median\n",
      "import numpy as np\n",
      "y_median = np.median(y)\n",
      "y_median\n",
      "(y < y_mean).sum()\n",
      "(y > y_mean).sum()\n",
      "y_sorted = np.sort(y, axis=0)\n",
      "y_sorted\n",
      "y_sorted[15]\n",
      "y_sorted[16]\n",
      "(y_sorted[15]+y_sorted[16])/2.\n"
     ]
    }
   ],
   "source": [
    "# first h3 section in second h2 section with all children\n",
    "se3 = [ v for v in start_end if v[0]==9][0]\n",
    "block = nb.get_cells_by_id(range(*se3))\n",
    "for cell in block:\n",
    "    print(cell['source'])"
   ]
  },
  {
   "cell_type": "code",
   "execution_count": null,
   "metadata": {
    "collapsed": true
   },
   "outputs": [],
   "source": []
  },
  {
   "cell_type": "code",
   "execution_count": null,
   "metadata": {
    "collapsed": true
   },
   "outputs": [],
   "source": []
  }
 ],
 "metadata": {
  "anaconda-cloud": {},
  "kernelspec": {
   "display_name": "Python [conda env:pysal2]",
   "language": "python",
   "name": "conda-env-pysal2-py"
  },
  "language_info": {
   "codemirror_mode": {
    "name": "ipython",
    "version": 2
   },
   "file_extension": ".py",
   "mimetype": "text/x-python",
   "name": "python",
   "nbconvert_exporter": "python",
   "pygments_lexer": "ipython2",
   "version": "2.7.13"
  }
 },
 "nbformat": 4,
 "nbformat_minor": 0
}
