{
 "cells": [
  {
   "cell_type": "code",
   "execution_count": 1,
   "metadata": {
    "collapsed": false
   },
   "outputs": [],
   "source": [
    "from geopyter import core"
   ]
  },
  {
   "cell_type": "code",
   "execution_count": 2,
   "metadata": {
    "collapsed": false
   },
   "outputs": [
    {
     "name": "stdout",
     "output_type": "stream",
     "text": [
      "Instantiating: sessions/Session-Test.ipynb\n",
      "Instantiating: foundations/Dictionaries-Test.ipynb\n",
      "Instantiating: foundations/Conditions.ipynb\n",
      "Instantiating: foundations/Conditions.ipynb\n",
      "Instantiating: foundations/Functions.ipynb\n",
      "Instantiating: visualization/choropleth_classification.ipynb\n"
     ]
    }
   ],
   "source": [
    "nb = core.NoteBook(\"sessions/Session-Test.ipynb\")"
   ]
  },
  {
   "cell_type": "code",
   "execution_count": 3,
   "metadata": {
    "collapsed": false
   },
   "outputs": [
    {
     "name": "stdout",
     "output_type": "stream",
     "text": [
      "Getting section from /Users/jreades/Documents/github/GeoPyTeR/atoms/foundations/Dictionaries-Test.ipynb: h1.Notebook-6: Dictionaries\n",
      "get_section(h1.Notebook-6: Dictionaries)\n",
      "[0, 1, 2]\n",
      "Getting section from /Users/jreades/Documents/github/GeoPyTeR/atoms/foundations/Conditions.ipynb: h3.Testing for Equality\n",
      "get_section(h3.Testing for Equality)\n",
      "[15, 16, 17, 18, 19, 20]\n",
      "Returning 6 new cells\n",
      "<class 'nbformat.notebooknode.NotebookNode'>\n",
      "<class 'nbformat.notebooknode.NotebookNode'>\n",
      "<class 'nbformat.notebooknode.NotebookNode'>\n",
      "<class 'nbformat.notebooknode.NotebookNode'>\n",
      "<class 'nbformat.notebooknode.NotebookNode'>\n",
      "<class 'nbformat.notebooknode.NotebookNode'>\n",
      "Returning 8 new cells\n",
      "<class 'nbformat.notebooknode.NotebookNode'>\n",
      "<class 'nbformat.notebooknode.NotebookNode'>\n",
      "<class 'nbformat.notebooknode.NotebookNode'>\n",
      "<class 'nbformat.notebooknode.NotebookNode'>\n",
      "<class 'nbformat.notebooknode.NotebookNode'>\n",
      "<class 'nbformat.notebooknode.NotebookNode'>\n",
      "<class 'nbformat.notebooknode.NotebookNode'>\n",
      "<class 'nbformat.notebooknode.NotebookNode'>\n",
      "Getting section from /Users/jreades/Documents/github/GeoPyTeR/atoms/foundations/Conditions.ipynb: h3.Testing for Equality\n",
      "get_section(h3.Testing for Equality)\n",
      "[15, 16, 17, 18, 19, 20]\n",
      "Returning 6 new cells\n",
      "<class 'nbformat.notebooknode.NotebookNode'>\n",
      "<class 'nbformat.notebooknode.NotebookNode'>\n",
      "<class 'nbformat.notebooknode.NotebookNode'>\n",
      "<class 'nbformat.notebooknode.NotebookNode'>\n",
      "<class 'nbformat.notebooknode.NotebookNode'>\n",
      "<class 'nbformat.notebooknode.NotebookNode'>\n",
      "Getting section from /Users/jreades/Documents/github/GeoPyTeR/atoms/foundations/Functions.ipynb: h2.Functions 101\n",
      "get_section(h2.Functions 101)\n",
      "[2, 3]\n",
      "Returning 2 new cells\n",
      "<class 'nbformat.notebooknode.NotebookNode'>\n",
      "<class 'nbformat.notebooknode.NotebookNode'>\n",
      "Getting section from /Users/jreades/Documents/github/GeoPyTeR/atoms/foundations/Functions.ipynb: h3.Assigning to a Variable -h4.A challenge for you!\n",
      "get_section(h3.Assigning to a Variable -h4.A challenge for you!)\n",
      "[28, 29, 30, 37, 38]\n",
      "Returning 5 new cells\n",
      "<class 'nbformat.notebooknode.NotebookNode'>\n",
      "<class 'nbformat.notebooknode.NotebookNode'>\n",
      "<class 'nbformat.notebooknode.NotebookNode'>\n",
      "<class 'nbformat.notebooknode.NotebookNode'>\n",
      "<class 'nbformat.notebooknode.NotebookNode'>\n",
      "Getting section from /Users/jreades/Documents/github/GeoPyTeR/atoms/visualization/choropleth_classification.ipynb: h3.Numerical summaries\n",
      "get_section(h3.Numerical summaries)\n",
      "[9, 10, 11, 12, 13, 14, 15, 16, 17, 18, 19, 20, 21]\n",
      "Getting section from /Users/jreades/Documents/github/GeoPyTeR/atoms/visualization/choropleth_classification.ipynb: h3.Univariate Distribution Visualization\n",
      "get_section(h3.Univariate Distribution Visualization)\n",
      "[22, 23, 24, 25, 26, 27]\n",
      "Getting section from /Users/jreades/Documents/github/GeoPyTeR/atoms/visualization/choropleth_classification.ipynb: h2.PySAL Classifiers -h3.Maximum Breaks\n",
      "get_section(h2.PySAL Classifiers -h3.Maximum Breaks)\n",
      "[27, 28, 29, 30, 31, 32, 33, 34, 35, 36, 39, 40, 41, 42, 43, 44, 45, 46, 47, 48, 49, 50, 51, 52, 53, 54, 55, 56, 57, 58, 59, 60, 61, 62, 63]\n",
      "Returning 54 new cells\n",
      "<class 'nbformat.notebooknode.NotebookNode'>\n",
      "<class 'nbformat.notebooknode.NotebookNode'>\n",
      "<class 'nbformat.notebooknode.NotebookNode'>\n",
      "<class 'nbformat.notebooknode.NotebookNode'>\n",
      "<class 'nbformat.notebooknode.NotebookNode'>\n",
      "<class 'nbformat.notebooknode.NotebookNode'>\n",
      "<class 'nbformat.notebooknode.NotebookNode'>\n",
      "<class 'nbformat.notebooknode.NotebookNode'>\n",
      "<class 'nbformat.notebooknode.NotebookNode'>\n",
      "<class 'nbformat.notebooknode.NotebookNode'>\n",
      "<class 'nbformat.notebooknode.NotebookNode'>\n",
      "<class 'nbformat.notebooknode.NotebookNode'>\n",
      "<class 'nbformat.notebooknode.NotebookNode'>\n",
      "<class 'nbformat.notebooknode.NotebookNode'>\n",
      "<class 'nbformat.notebooknode.NotebookNode'>\n",
      "<class 'nbformat.notebooknode.NotebookNode'>\n",
      "<class 'nbformat.notebooknode.NotebookNode'>\n",
      "<class 'nbformat.notebooknode.NotebookNode'>\n",
      "<class 'nbformat.notebooknode.NotebookNode'>\n",
      "<class 'nbformat.notebooknode.NotebookNode'>\n",
      "<class 'nbformat.notebooknode.NotebookNode'>\n",
      "<class 'nbformat.notebooknode.NotebookNode'>\n",
      "<class 'nbformat.notebooknode.NotebookNode'>\n",
      "<class 'nbformat.notebooknode.NotebookNode'>\n",
      "<class 'nbformat.notebooknode.NotebookNode'>\n",
      "<class 'nbformat.notebooknode.NotebookNode'>\n",
      "<class 'nbformat.notebooknode.NotebookNode'>\n",
      "<class 'nbformat.notebooknode.NotebookNode'>\n",
      "<class 'nbformat.notebooknode.NotebookNode'>\n",
      "<class 'nbformat.notebooknode.NotebookNode'>\n",
      "<class 'nbformat.notebooknode.NotebookNode'>\n",
      "<class 'nbformat.notebooknode.NotebookNode'>\n",
      "<class 'nbformat.notebooknode.NotebookNode'>\n",
      "<class 'nbformat.notebooknode.NotebookNode'>\n",
      "<class 'nbformat.notebooknode.NotebookNode'>\n",
      "<class 'nbformat.notebooknode.NotebookNode'>\n",
      "<class 'nbformat.notebooknode.NotebookNode'>\n",
      "<class 'nbformat.notebooknode.NotebookNode'>\n",
      "<class 'nbformat.notebooknode.NotebookNode'>\n",
      "<class 'nbformat.notebooknode.NotebookNode'>\n",
      "<class 'nbformat.notebooknode.NotebookNode'>\n",
      "<class 'nbformat.notebooknode.NotebookNode'>\n",
      "<class 'nbformat.notebooknode.NotebookNode'>\n",
      "<class 'nbformat.notebooknode.NotebookNode'>\n",
      "<class 'nbformat.notebooknode.NotebookNode'>\n",
      "<class 'nbformat.notebooknode.NotebookNode'>\n",
      "<class 'nbformat.notebooknode.NotebookNode'>\n",
      "<class 'nbformat.notebooknode.NotebookNode'>\n",
      "<class 'nbformat.notebooknode.NotebookNode'>\n",
      "<class 'nbformat.notebooknode.NotebookNode'>\n",
      "<class 'nbformat.notebooknode.NotebookNode'>\n",
      "<class 'nbformat.notebooknode.NotebookNode'>\n",
      "<class 'nbformat.notebooknode.NotebookNode'>\n",
      "<class 'nbformat.notebooknode.NotebookNode'>\n",
      "Composing content for sessions/Session-Test.ipynb with 86 cells of new content.\n"
     ]
    }
   ],
   "source": [
    "nb.compile()"
   ]
  },
  {
   "cell_type": "code",
   "execution_count": 4,
   "metadata": {
    "collapsed": false
   },
   "outputs": [],
   "source": [
    "nb.write(fn='builds/Session-Compiled.ipynb')"
   ]
  },
  {
   "cell_type": "code",
   "execution_count": 5,
   "metadata": {
    "collapsed": false
   },
   "outputs": [
    {
     "name": "stdout",
     "output_type": "stream",
     "text": [
      "Done.\n"
     ]
    }
   ],
   "source": [
    "print(\"Done.\")"
   ]
  }
 ],
 "metadata": {
  "anaconda-cloud": {},
  "kernelspec": {
   "display_name": "Python [Root]",
   "language": "python",
   "name": "Python [Root]"
  },
  "language_info": {
   "codemirror_mode": {
    "name": "ipython",
    "version": 2
   },
   "file_extension": ".py",
   "mimetype": "text/x-python",
   "name": "python",
   "nbconvert_exporter": "python",
   "pygments_lexer": "ipython2",
   "version": "2.7.12"
  }
 },
 "nbformat": 4,
 "nbformat_minor": 1
}
