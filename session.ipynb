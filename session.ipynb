{
 "cells": [
  {
   "cell_type": "code",
   "execution_count": 1,
   "metadata": {
    "collapsed": false
   },
   "outputs": [],
   "source": [
    "from geopyter import core"
   ]
  },
  {
   "cell_type": "code",
   "execution_count": 2,
   "metadata": {
    "collapsed": false
   },
   "outputs": [
    {
     "name": "stdout",
     "output_type": "stream",
     "text": [
      "Instantiating: sessions/Session-Test.ipynb\n"
     ]
    }
   ],
   "source": [
    "nb = core.NoteBook(\"sessions/Session-Test.ipynb\")"
   ]
  },
  {
   "cell_type": "code",
   "execution_count": 3,
   "metadata": {
    "collapsed": false
   },
   "outputs": [
    {
     "name": "stdout",
     "output_type": "stream",
     "text": [
      "Instantiating: foundations/Functions.ipynb\n",
      "Instantiating: visualization/choropleth_classification.ipynb\n",
      "<geopyter.core.NoteBook object at 0x1166030d0>\n",
      "Includes: [u'h2.Functions 101']\n",
      "Excludes: []\n",
      "<geopyter.core.NoteBook object at 0x1166030d0>\n",
      "Includes: [u'h3.Assigning to a Variable']\n",
      "Excludes: [u'-h4.A challenge for you!']\n",
      "Dealing with exclude: -h4.A challenge for you!\n",
      "<geopyter.core.NoteBook object at 0x100736cd0>\n",
      "Includes: [u'h3.Numerical summaries']\n",
      "Excludes: []\n",
      "<geopyter.core.NoteBook object at 0x100736cd0>\n",
      "Includes: [u'h3.Univariate Distribution Visualization']\n",
      "Excludes: []\n",
      "<geopyter.core.NoteBook object at 0x100736cd0>\n",
      "Includes: [u'h2.PySAL Classifiers']\n",
      "Excludes: [u'-h3.Maximum Breaks']\n",
      "Dealing with exclude: -h3.Maximum Breaks\n",
      "Writing compiled notebook to: builds/Session-Compiled.ipynb\n"
     ]
    }
   ],
   "source": [
    "nb.compile('builds/Session-Compiled.ipynb')"
   ]
  },
  {
   "cell_type": "code",
   "execution_count": null,
   "metadata": {
    "collapsed": true
   },
   "outputs": [],
   "source": [
    "#len(cells)"
   ]
  },
  {
   "cell_type": "code",
   "execution_count": null,
   "metadata": {
    "collapsed": false
   },
   "outputs": [],
   "source": [
    "#import nbformat\n",
    "#\n",
    "#nb1 = nbformat.v4.new_notebook()\n",
    "#nb1.cells = cells"
   ]
  },
  {
   "cell_type": "code",
   "execution_count": null,
   "metadata": {
    "collapsed": false
   },
   "outputs": [],
   "source": [
    "unicodelist=[u'a',u'   a   ',u' foo is just...foo   ']\n",
    "map (unicode.strip,unicodelist)"
   ]
  }
 ],
 "metadata": {
  "anaconda-cloud": {},
  "kernelspec": {
   "display_name": "Python [Root]",
   "language": "python",
   "name": "Python [Root]"
  },
  "language_info": {
   "codemirror_mode": {
    "name": "ipython",
    "version": 2
   },
   "file_extension": ".py",
   "mimetype": "text/x-python",
   "name": "python",
   "nbconvert_exporter": "python",
   "pygments_lexer": "ipython2",
   "version": "2.7.12"
  }
 },
 "nbformat": 4,
 "nbformat_minor": 1
}
