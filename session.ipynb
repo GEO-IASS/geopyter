{
 "cells": [
  {
   "cell_type": "code",
   "execution_count": 1,
   "metadata": {
    "collapsed": false
   },
   "outputs": [],
   "source": [
    "from geopyter import core"
   ]
  },
  {
   "cell_type": "code",
   "execution_count": 2,
   "metadata": {
    "collapsed": false
   },
   "outputs": [
    {
     "name": "stdout",
     "output_type": "stream",
     "text": [
      "Instantiating: sessions/Session-Test.ipynb\n",
      "Instantiating: foundations/Dictionaries-Test.ipynb\n",
      "Instantiating: foundations/Conditions.ipynb\n",
      "Instantiating: foundations/Functions.ipynb\n",
      "Instantiating: visualization/choropleth_classification.ipynb\n"
     ]
    }
   ],
   "source": [
    "nb = core.NoteBook(\"sessions/Session-Test.ipynb\")"
   ]
  },
  {
   "cell_type": "code",
   "execution_count": 3,
   "metadata": {
    "collapsed": false
   },
   "outputs": [
    {
     "name": "stdout",
     "output_type": "stream",
     "text": [
      "Getting section from <geopyter.core.Cell object at 0x102077a10>: h1.Notebook-6: Dictionaries\n",
      "Returning content from /Users/jreades/Documents/github/GeoPyTeR/atoms/foundations/Dictionaries-Test.ipynb with 2 new cells\n",
      "Getting section from <geopyter.core.Cell object at 0x104cbfd50>: h2.Functions 101\n",
      "Returning content from /Users/jreades/Documents/github/GeoPyTeR/atoms/foundations/Functions.ipynb with 2 new cells\n",
      "Getting section from <geopyter.core.Cell object at 0x104cbb990>: h3.Assigning to a Variable -h4.A challenge for you!\n",
      "Returning content from /Users/jreades/Documents/github/GeoPyTeR/atoms/foundations/Functions.ipynb with 5 new cells\n",
      "Getting section from <geopyter.core.Cell object at 0x104cbba10>: h3.Numerical summaries\n",
      "Getting section from <geopyter.core.Cell object at 0x104cbba10>: h3.Univariate Distribution Visualization\n",
      "Getting section from <geopyter.core.Cell object at 0x104cbba10>: h2.PySAL Classifiers -h3.Maximum Breaks\n",
      "Returning content from /Users/jreades/Documents/github/GeoPyTeR/atoms/visualization/choropleth_classification.ipynb with 54 new cells\n",
      "Composing content for sessions/Session-Test.ipynb with 73 cells of new content.\n"
     ]
    }
   ],
   "source": [
    "nb.compile()"
   ]
  },
  {
   "cell_type": "code",
   "execution_count": 4,
   "metadata": {
    "collapsed": false
   },
   "outputs": [],
   "source": [
    "nb.write(fn='builds/Session-Compiled.ipynb')"
   ]
  },
  {
   "cell_type": "code",
   "execution_count": 5,
   "metadata": {
    "collapsed": false
   },
   "outputs": [
    {
     "name": "stdout",
     "output_type": "stream",
     "text": [
      "Done.\n"
     ]
    }
   ],
   "source": [
    "print(\"Done.\")"
   ]
  }
 ],
 "metadata": {
  "anaconda-cloud": {},
  "kernelspec": {
   "display_name": "Python [Root]",
   "language": "python",
   "name": "Python [Root]"
  },
  "language_info": {
   "codemirror_mode": {
    "name": "ipython",
    "version": 2
   },
   "file_extension": ".py",
   "mimetype": "text/x-python",
   "name": "python",
   "nbconvert_exporter": "python",
   "pygments_lexer": "ipython2",
   "version": "2.7.12"
  }
 },
 "nbformat": 4,
 "nbformat_minor": 1
}
