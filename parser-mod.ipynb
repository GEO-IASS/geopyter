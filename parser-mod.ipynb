{
 "cells": [
  {
   "cell_type": "markdown",
   "metadata": {},
   "source": [
    "# Parsing Jupyter Notebooks"
   ]
  },
  {
   "cell_type": "code",
   "execution_count": 5,
   "metadata": {
    "collapsed": true
   },
   "outputs": [],
   "source": [
    "import nbformat\n",
    "import io"
   ]
  },
  {
   "cell_type": "markdown",
   "metadata": {},
   "source": [
    "# Reading Notebooks"
   ]
  },
  {
   "cell_type": "code",
   "execution_count": 3,
   "metadata": {
    "collapsed": false
   },
   "outputs": [],
   "source": [
    "def read_nb(nb):\n",
    "    with io.open(nb, 'r', encoding='utf8') as f:\n",
    "        nb = nbformat.read(f, nbformat.NO_CONVERT)\n",
    "    return nb\n",
    "\n",
    "def write_nb(nb, fn):\n",
    "    if not fn.endswith('.ipynb'):\n",
    "        fn += '.ipynb'\n",
    "    with io.open(fn, 'w', encoding='utf8') as f:\n",
    "        nbformat.write(nb, f, nbformat.NO_CONVERT)\n",
    "\n",
    "def dump_nb(nb, cells=5, lines=5):\n",
    "    for c in xrange(0, cells):\n",
    "        print(\"====== \" + nb.cells[c]['cell_type'] + \" ======\")\n",
    "        src = nb.cells[c]['source'].splitlines()\n",
    "        if len(src) > lines:\n",
    "            print('\\n'.join(src[0:lines]))\n",
    "            print(\"...\")\n",
    "        else:\n",
    "            print(nb.cells[c]['source'])"
   ]
  },
  {
   "cell_type": "markdown",
   "metadata": {},
   "source": [
    "## Types of cells in  this notebook"
   ]
  },
  {
   "cell_type": "code",
   "execution_count": 4,
   "metadata": {
    "collapsed": false
   },
   "outputs": [],
   "source": [
    "from collections import defaultdict\n",
    "def get_structure(cells):\n",
    "    cell_types = defaultdict(list)\n",
    "    for i, cell in enumerate(cells):\n",
    "        cell_types[cell.cell_type].append(i)\n",
    "    return cell_types\n",
    "            "
   ]
  },
  {
   "cell_type": "markdown",
   "metadata": {},
   "source": [
    "## Turning Output Cells OFF"
   ]
  },
  {
   "cell_type": "code",
   "execution_count": 6,
   "metadata": {
    "collapsed": true
   },
   "outputs": [],
   "source": [
    "def remove_outputs(nb):\n",
    "    \"\"\"Set output attribute of all code cells to be empty\"\"\"\n",
    "    for cell in nb.cells:\n",
    "        if cell.cell_type == 'code':\n",
    "            cell.outputs = []\n",
    "\n",
    "def clear_notebook(old_ipynb, new_ipynb):\n",
    "    with io.open(old_ipynb, 'r') as f:\n",
    "        nb = nbformat.read(f, nbformat.NO_CONVERT)\n",
    "\n",
    "    remove_outputs(nb)\n",
    "    \n",
    "    with io.open(new_ipynb, 'w', encoding='utf8') as f:\n",
    "        nbformat.write(nb, f, nbformat.NO_CONVERT)\n",
    "\n",
    "source_nb = 'atoms/visualization/choropleth_classification.ipynb'\n",
    "\n",
    "new_nb = 'nout.ipynb'\n",
    "clear_notebook(source_nb, new_nb)"
   ]
  },
  {
   "cell_type": "markdown",
   "metadata": {
    "collapsed": true
   },
   "source": [
    "## Importing by Type\n",
    "\n",
    "```\n",
    "@include {\n",
    "    'resource' = 'http://geopyter.org/atoms/fundamentals/lists.ipynb',\n",
    "    'select' = 'h1.Understanding Lists'\n",
    "}\n",
    "```"
   ]
  },
  {
   "cell_type": "code",
   "execution_count": 7,
   "metadata": {
    "collapsed": false
   },
   "outputs": [],
   "source": [
    "source_nb = 'atoms/visualization/choropleth_classification.ipynb'\n",
    "nb = read_nb(source_nb)"
   ]
  },
  {
   "cell_type": "code",
   "execution_count": 8,
   "metadata": {
    "collapsed": false
   },
   "outputs": [
    {
     "name": "stdout",
     "output_type": "stream",
     "text": [
      "Ctype: markdown\n",
      "## Layout of a Function\n",
      "### Function Definition\n"
     ]
    }
   ],
   "source": [
    "import re\n",
    "def transHeader(matchobj):\n",
    "    return matchobj.group(1) + '#' * int(matchobj.group(2))\n",
    "\n",
    "def parseSelect(s): \n",
    "    t = [ re.sub(r'(-?)h(\\d+)', lambda matchobj: matchobj.group(1) + '#' * int(matchobj.group(2)), x, flags=re.IGNORECASE) for x in re.split(r'\\s*(\\-?h\\d+)\\.', s) ]\n",
    "    for i in xrange(1, len(t), 2):\n",
    "        print ' '.join([t[i], t[i+1]])\n",
    "    \n",
    "def includeContent(nb, select=None, ctype=None, clear=True):\n",
    "    \"\"\"Import content from another notebook:\n",
    "    * select: specification of content within notebook to include/exclude\n",
    "    * version: specify a particular version of a notebook to use (via Git/GitHub)\n",
    "    * ctype: code/markdown; specify only code or only markdown cell types for including?\n",
    "    * clear: boolean; clear outputs while importing?\n",
    "    Other params?\n",
    "    \"\"\"\n",
    "    \n",
    "    # Read the notebook into a composition\n",
    "    cnb = read_nb(nb)\n",
    "    \n",
    "    # If we only want to *keep* the specified\n",
    "    # cell type and delete all others...\n",
    "    if ctype is not None:\n",
    "        print(\"Ctype: \" + str(ctype))\n",
    "        ctypes = get_structure(cnb.cells)\n",
    "        for t in ctypes.keys():\n",
    "            if t != ctype:\n",
    "                #print(\"Deleting type \" + t)\n",
    "                for c in xrange(len(ctypes[t])-1,-1,-1):\n",
    "                    #print(\"Deleting: \" + str(ctypes[t][c]))\n",
    "                    del cnb.cells[ctypes[t][c]]\n",
    "    \n",
    "    # Remove any code output from the included \n",
    "    # notebook as part of the process\n",
    "    if clear is True:\n",
    "        print(\"Clear: \" + str(clear))\n",
    "        remove_outputs(cnb)\n",
    "    \n",
    "    # Now the 'magic' (I'm probably not writing\n",
    "    # great Python code here though...)\n",
    "    if select is not None:\n",
    "        # =====\n",
    "        # The data structure here needs some thought,\n",
    "        # but for now I'm going with a dictionary of \n",
    "        # dictionaries...\n",
    "        # =====\n",
    "        patterns = {}\n",
    "        \n",
    "        # Split on semi-colons in the select statement\n",
    "        selections = select.split(\";\")\n",
    "        \n",
    "        # And now break each statement into sub-selects\n",
    "        for s in selections:\n",
    "            parseSelect(s)\n",
    "        \n",
    "        #for c in cnb.cells:\n",
    "            \n",
    "    \n",
    "    return cnb\n",
    "\n",
    "foo = includeContent('atoms/foundations/Functions.ipynb', \n",
    "                     select='h2.Layout of a Function h3.Function Definition',\n",
    "                     ctype='markdown', \n",
    "                     clear=False)\n",
    "write_nb(foo, 'test')"
   ]
  },
  {
   "cell_type": "code",
   "execution_count": null,
   "metadata": {
    "collapsed": true
   },
   "outputs": [],
   "source": []
  }
 ],
 "metadata": {
  "anaconda-cloud": {},
  "kernelspec": {
   "display_name": "Python [Root]",
   "language": "python",
   "name": "Python [Root]"
  },
  "language_info": {
   "codemirror_mode": {
    "name": "ipython",
    "version": 2
   },
   "file_extension": ".py",
   "mimetype": "text/x-python",
   "name": "python",
   "nbconvert_exporter": "python",
   "pygments_lexer": "ipython2",
   "version": "2.7.12"
  }
 },
 "nbformat": 4,
 "nbformat_minor": 0
}
