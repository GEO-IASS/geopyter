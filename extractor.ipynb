{
 "cells": [
  {
   "cell_type": "markdown",
   "metadata": {},
   "source": [
    "# Extracting from Jupyter Notebooks"
   ]
  },
  {
   "cell_type": "code",
   "execution_count": 1,
   "metadata": {
    "collapsed": true
   },
   "outputs": [],
   "source": [
    "import nbformat\n",
    "import io\n",
    "xrange = range"
   ]
  },
  {
   "cell_type": "code",
   "execution_count": 2,
   "metadata": {
    "collapsed": true
   },
   "outputs": [],
   "source": [
    "import md2py"
   ]
  },
  {
   "cell_type": "markdown",
   "metadata": {},
   "source": [
    "# Reading Notebooks"
   ]
  },
  {
   "cell_type": "code",
   "execution_count": 3,
   "metadata": {
    "collapsed": true
   },
   "outputs": [],
   "source": [
    "def read_nb(nb):\n",
    "    with io.open(nb, 'r', encoding='utf8') as f:\n",
    "        nb = nbformat.read(f, nbformat.NO_CONVERT)\n",
    "    return nb\n",
    "\n",
    "def write_nb(nb, fn):\n",
    "    if not fn.endswith('.ipynb'):\n",
    "        fn += '.ipynb'\n",
    "    with io.open(fn, 'w', encoding='utf8') as f:\n",
    "        nbformat.write(nb, f, nbformat.NO_CONVERT)\n",
    "\n",
    "def dump_nb(nb, cells=5, lines=5):\n",
    "    for c in xrange(0, cells):\n",
    "        print(\"====== \" + nb.cells[c]['cell_type'] + \" ======\")\n",
    "        src = nb.cells[c]['source'].splitlines()\n",
    "        if len(src) > lines:\n",
    "            print('\\n'.join(src[0:lines]))\n",
    "            print(\"...\")\n",
    "        else:\n",
    "            print(nb.cells[c]['source'])"
   ]
  },
  {
   "cell_type": "code",
   "execution_count": 4,
   "metadata": {
    "collapsed": false
   },
   "outputs": [],
   "source": [
    "source_nb = 'atoms/foundations/Dictionaries.ipynb'\n",
    "\n",
    "inb = read_nb(source_nb)"
   ]
  },
  {
   "cell_type": "code",
   "execution_count": 5,
   "metadata": {
    "collapsed": false
   },
   "outputs": [
    {
     "data": {
      "text/plain": [
       "nbformat.notebooknode.NotebookNode"
      ]
     },
     "execution_count": 5,
     "metadata": {},
     "output_type": "execute_result"
    }
   ],
   "source": [
    "type(inb)"
   ]
  },
  {
   "cell_type": "code",
   "execution_count": 6,
   "metadata": {
    "collapsed": false
   },
   "outputs": [
    {
     "data": {
      "text/plain": [
       "dict_keys(['nbformat', 'cells', 'nbformat_minor', 'metadata'])"
      ]
     },
     "execution_count": 6,
     "metadata": {},
     "output_type": "execute_result"
    }
   ],
   "source": [
    "inb.keys()"
   ]
  },
  {
   "cell_type": "code",
   "execution_count": 7,
   "metadata": {
    "collapsed": false
   },
   "outputs": [
    {
     "data": {
      "text/plain": [
       "{'anaconda-cloud': {},\n",
       " 'kernelspec': {'display_name': 'Python [conda root]',\n",
       "  'language': 'python',\n",
       "  'name': 'conda-root-py'},\n",
       " 'language_info': {'codemirror_mode': {'name': 'ipython', 'version': 3},\n",
       "  'file_extension': '.py',\n",
       "  'mimetype': 'text/x-python',\n",
       "  'name': 'python',\n",
       "  'nbconvert_exporter': 'python',\n",
       "  'pygments_lexer': 'ipython3',\n",
       "  'version': '3.5.2'}}"
      ]
     },
     "execution_count": 7,
     "metadata": {},
     "output_type": "execute_result"
    }
   ],
   "source": [
    "inb.metadata"
   ]
  },
  {
   "cell_type": "code",
   "execution_count": 8,
   "metadata": {
    "collapsed": true
   },
   "outputs": [],
   "source": [
    "cells = inb['cells']"
   ]
  },
  {
   "cell_type": "code",
   "execution_count": 9,
   "metadata": {
    "collapsed": false
   },
   "outputs": [
    {
     "data": {
      "text/plain": [
       "list"
      ]
     },
     "execution_count": 9,
     "metadata": {},
     "output_type": "execute_result"
    }
   ],
   "source": [
    "type(cells)"
   ]
  },
  {
   "cell_type": "code",
   "execution_count": 10,
   "metadata": {
    "collapsed": false
   },
   "outputs": [
    {
     "data": {
      "text/plain": [
       "41"
      ]
     },
     "execution_count": 10,
     "metadata": {},
     "output_type": "execute_result"
    }
   ],
   "source": [
    "len(cells)"
   ]
  },
  {
   "cell_type": "code",
   "execution_count": 11,
   "metadata": {
    "collapsed": false
   },
   "outputs": [
    {
     "data": {
      "text/plain": [
       "list"
      ]
     },
     "execution_count": 11,
     "metadata": {},
     "output_type": "execute_result"
    }
   ],
   "source": [
    "type(cells)"
   ]
  },
  {
   "cell_type": "code",
   "execution_count": 12,
   "metadata": {
    "collapsed": false
   },
   "outputs": [
    {
     "name": "stdout",
     "output_type": "stream",
     "text": [
      "====== markdown ======\n",
      "# Notebook-6: Dictionaries\n",
      "====== markdown ======\n",
      "### Lesson Content \n",
      "\n",
      "Welcome back to the fifth Code Camp notebook! In this lesson we'll contiune our exploration of more advanced data structures. Last time we took a peek at a way to represent ordered collections of items via **lists**.\n",
      "\n",
      "This time we'll use **dictionaries** to create collections of unordered items (this is just an easy distinction - there's much more to it - but it's a good way to start wrapping your head around the subject).\n",
      "...\n",
      "====== markdown ======\n",
      "# Dictionaries\n",
      "----\n",
      "\n",
      "Dictionaries are another kind of data structure that is frequently used in Python. Like lists, the dictionary is also found in other programming languages, often under a different name. For instance, Python dictionaries might be referred to elsewhere as \"maps\", \"hashes\", or \"associative arrays\").\n",
      "\n",
      "...\n",
      "====== code ======\n",
      "myDict = {\n",
      "    \"key1\": \"Value 1\",\n",
      "    \"key2\": \"2nd Value\",\n",
      "    3: \"3rd Value\",\n",
      "    \"Fourth Key\": [4.0, 'Jon']\n",
      "...\n",
      "====== markdown ======\n",
      "Did you notice that when we printed out `myDict` it didn't print out the elements of dictionary in the same order as we put items into it? That's what we mean when we say that dictionaries are _un_-ordered. Always remember that you have no idea how things are stored in a dictionary can't rely on indexing like you can with a list. Explaining _why_ this works this way is something you'd encounter in a first year Computer Science course.\n",
      "\n",
      "And notice too that every type of data can go into a dictionary: strings, integers, and floats. There's even a _list_ in there (`[4.0, 'Jon']`)! The _only_ constraint is that the **key must be *immutable***; this means that it is a simple, static identifier and that can't change the value of a key later such as you might using a list, dictionary, or changing variable.\n"
     ]
    }
   ],
   "source": [
    "dump_nb(inb)"
   ]
  },
  {
   "cell_type": "code",
   "execution_count": 38,
   "metadata": {
    "collapsed": false
   },
   "outputs": [],
   "source": [
    "import re\n",
    "rh1 = re.compile('(?<!#)# ')\n",
    "rh2 = re.compile('(?<!#)## ')\n",
    "rh3 = re.compile('(?<!#)### ')\n",
    "rh4 = re.compile('(?<!#)#### ')\n",
    "\n",
    "rhs = rh1, rh2, rh3, rh4\n",
    "\n",
    "from collections import defaultdict\n",
    "\n",
    "class NoteBook(object):\n",
    "    def __init__(self, ipynb):\n",
    "        self.nb = read_nb(ipynb)\n",
    "        self.structure = self.get_structure()\n",
    "    \n",
    "    def get_structure(self):\n",
    "        cell_types = defaultdict(list)\n",
    "        for i, cell in enumerate(self.nb.cells):\n",
    "            cell_types[cell.cell_type].append(i)\n",
    "        return cell_types\n",
    "        \n",
    "    def get_cells_by_type(self, cell_type=None):\n",
    "        if cell_type:\n",
    "            cell_type = cell_type.lower()\n",
    "            return [self.nb.cells[i] for i in self.structure[cell_type]]\n",
    "        else:\n",
    "            return self.nb.cells\n",
    "    \n",
    "    def get_cells_by_id(self, ids=[]):\n",
    "        return [self.nb.cells[i] for i in ids]\n",
    "    \n",
    "    def get_header_cells(self):\n",
    "        hs = {1:[], 2:[], 3: [], 4: []}\n",
    "        idxs = self.structure['markdown']\n",
    "        cells = self.get_cells_by_id(idxs)\n",
    "        pairs = zip(idxs, cells)\n",
    "        for idx, cell in pairs:\n",
    "            for j, rh in enumerate(rhs):\n",
    "                fa = rh.findall(cell['source'])\n",
    "                if fa:\n",
    "                    for match in fa:\n",
    "                        hs[j+1].append(idx)\n",
    "        return hs\n",
    "        \n",
    "        \n",
    "    "
   ]
  },
  {
   "cell_type": "code",
   "execution_count": 39,
   "metadata": {
    "collapsed": false
   },
   "outputs": [],
   "source": [
    "inb = NoteBook(source_nb)"
   ]
  },
  {
   "cell_type": "code",
   "execution_count": 40,
   "metadata": {
    "collapsed": false
   },
   "outputs": [],
   "source": [
    "h_cells = inb.get_header_cells()"
   ]
  },
  {
   "cell_type": "code",
   "execution_count": 41,
   "metadata": {
    "collapsed": false
   },
   "outputs": [
    {
     "data": {
      "text/plain": [
       "{1: [0, 2, 35], 2: [6, 12, 14, 25], 3: [1, 1, 20, 22, 25, 29, 31, 40], 4: [8]}"
      ]
     },
     "execution_count": 41,
     "metadata": {},
     "output_type": "execute_result"
    }
   ],
   "source": [
    "h_cells"
   ]
  },
  {
   "cell_type": "code",
   "execution_count": 42,
   "metadata": {
    "collapsed": false
   },
   "outputs": [
    {
     "data": {
      "text/plain": [
       "[{'cell_type': 'markdown',\n",
       "  'metadata': {},\n",
       "  'source': 'Notice how now we just jump straight to the item we want? We don\\'t need to think about \"Was that the fourth item in the list? Or the fifth?\", we just use a sensible key and we can ask for the associated value directly.\\n\\n#### A challenge for you!\\n\\nHow would you print out \"2nd Value\" from `myDict`?'}]"
      ]
     },
     "execution_count": 42,
     "metadata": {},
     "output_type": "execute_result"
    }
   ],
   "source": [
    "inb.get_cells_by_id([8])"
   ]
  },
  {
   "cell_type": "code",
   "execution_count": 58,
   "metadata": {
    "collapsed": false
   },
   "outputs": [
    {
     "name": "stdout",
     "output_type": "stream",
     "text": [
      "8 6\n",
      "1 0\n",
      "1 0\n",
      "20 14\n",
      "22 14\n",
      "25 14\n",
      "29 25\n",
      "31 25\n",
      "40 35\n",
      "6 2\n",
      "12 2\n",
      "14 2\n",
      "25 2\n"
     ]
    }
   ],
   "source": [
    "# print out the child markdown cell and its parent markdown cell\n",
    "levels = range(4, 1, -1)\n",
    "for level in levels:\n",
    "    children = h_cells[level]\n",
    "    #print(level, children)\n",
    "    parents = []\n",
    "    for child in children:\n",
    "        #print(child)\n",
    "        parent_level = level - 1\n",
    "        while parent_level > 0:\n",
    "            candidates = [parent for parent in h_cells[parent_level]]\n",
    "            parents.extend([c for c in candidates if c < child])\n",
    "            parent_level -= 1\n",
    "                \n",
    "        parent = max(parents)\n",
    "        print(child, parent)\n"
   ]
  },
  {
   "cell_type": "code",
   "execution_count": null,
   "metadata": {
    "collapsed": true
   },
   "outputs": [],
   "source": []
  },
  {
   "cell_type": "code",
   "execution_count": null,
   "metadata": {
    "collapsed": true
   },
   "outputs": [],
   "source": []
  }
 ],
 "metadata": {
  "anaconda-cloud": {},
  "kernelspec": {
   "display_name": "Python [conda root]",
   "language": "python",
   "name": "conda-root-py"
  },
  "language_info": {
   "codemirror_mode": {
    "name": "ipython",
    "version": 3
   },
   "file_extension": ".py",
   "mimetype": "text/x-python",
   "name": "python",
   "nbconvert_exporter": "python",
   "pygments_lexer": "ipython3",
   "version": "3.5.2"
  }
 },
 "nbformat": 4,
 "nbformat_minor": 0
}
