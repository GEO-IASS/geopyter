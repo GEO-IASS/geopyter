{
 "cells": [
  {
   "cell_type": "markdown",
   "metadata": {},
   "source": [
    "# My First Session\n",
    "\n",
    "- Contributors: Contributor 1 (contributor@example.ac.uk); Contributor 2 (contributor@example.edu)"
   ]
  },
  {
   "cell_type": "markdown",
   "metadata": {},
   "source": [
    "## Import (Dictionaries)\n",
    "\n",
    "```\n",
    "select 'h1.Notebook-6: Dictionaries' from Dictionaries.ipynb\n",
    "```\n",
    "----"
   ]
  },
  {
   "cell_type": "markdown",
   "metadata": {},
   "source": [
    "@include {\n",
    "    src = foundations/Dictionaries.ipynb\n",
    "    select = h1.Notebook-6: Dictionaries\n",
    "}"
   ]
  },
  {
   "cell_type": "markdown",
   "metadata": {},
   "source": [
    "----\n",
    "\n",
    "## Import (Functions 101)\n",
    "\n",
    "First we are going to deal with functions because they're important: select = h2.Functions 101\n",
    "\n",
    "----"
   ]
  },
  {
   "cell_type": "markdown",
   "metadata": {},
   "source": [
    "@include {\n",
    "    src = foundations/Functions.ipynb\n",
    "    select = h2.Functions 101\n",
    "}"
   ]
  },
  {
   "cell_type": "markdown",
   "metadata": {},
   "source": [
    "----\n",
    "\n",
    "#### Some other markdown."
   ]
  },
  {
   "cell_type": "code",
   "execution_count": 2,
   "metadata": {
    "collapsed": false
   },
   "outputs": [
    {
     "name": "stdout",
     "output_type": "stream",
     "text": [
      "Some more code.\n"
     ]
    }
   ],
   "source": [
    "print(\"Some more code.\")"
   ]
  },
  {
   "cell_type": "markdown",
   "metadata": {},
   "source": [
    "```\n",
    "select 'h3.Assigning to a Variable' without 'h4.A challenge for you!' or 'h4.Another challenge for you!' from Functions.ipynb\n",
    "```\n",
    "----"
   ]
  },
  {
   "cell_type": "markdown",
   "metadata": {},
   "source": [
    "@include {\n",
    "    src = foundations/Functions.ipynb\n",
    "    select = h3.Assigning to a Variable -h4.A challenge for you! -h4.Another challenge for you!\n",
    "}"
   ]
  },
  {
   "cell_type": "markdown",
   "metadata": {},
   "source": [
    "----\n",
    "\n",
    "## Import (Choropleth without Maximum Breaks)\n",
    "\n",
    "And try something from the Choropleth notebook in a different directory: \n",
    "```\n",
    "select = 'h3.Numerical summaries'; 'h3.Univariate Distribution Visualization'; 'h2.PySAL Classifiers -h3.Maximum Breaks' from choropoleth_classification.ipynb\n",
    "```\n",
    "----"
   ]
  },
  {
   "cell_type": "markdown",
   "metadata": {},
   "source": [
    "@include {\n",
    "    src = visualization/choropleth_classification.ipynb\n",
    "    select = h3.Numerical summaries; h3.Univariate Distribution Visualization; h2.PySAL Classifiers -h3.Maximum Breaks\n",
    "}"
   ]
  },
  {
   "cell_type": "markdown",
   "metadata": {},
   "source": [
    "----\n",
    "And some more executable code..."
   ]
  },
  {
   "cell_type": "code",
   "execution_count": 3,
   "metadata": {
    "collapsed": false
   },
   "outputs": [
    {
     "data": {
      "text/plain": [
       "8"
      ]
     },
     "execution_count": 3,
     "metadata": {},
     "output_type": "execute_result"
    }
   ],
   "source": [
    "3+5"
   ]
  },
  {
   "cell_type": "code",
   "execution_count": 4,
   "metadata": {
    "collapsed": false
   },
   "outputs": [
    {
     "name": "stdout",
     "output_type": "stream",
     "text": [
      "1.13.0\n"
     ]
    }
   ],
   "source": [
    "import pysal\n",
    "print pysal.version"
   ]
  },
  {
   "cell_type": "markdown",
   "metadata": {},
   "source": [
    "Done! Let's see how we did."
   ]
  }
 ],
 "metadata": {
  "anaconda-cloud": {},
  "kernelspec": {
   "display_name": "Python [Root]",
   "language": "python",
   "name": "Python [Root]"
  },
  "language_info": {
   "codemirror_mode": {
    "name": "ipython",
    "version": 2
   },
   "file_extension": ".py",
   "mimetype": "text/x-python",
   "name": "python",
   "nbconvert_exporter": "python",
   "pygments_lexer": "ipython2",
   "version": "2.7.12"
  }
 },
 "nbformat": 4,
 "nbformat_minor": 0
}
