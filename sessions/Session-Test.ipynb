{
 "cells": [
  {
   "cell_type": "markdown",
   "metadata": {},
   "source": [
    "# My First Session\n",
    "\n",
    "- Contributors: Contributor 1; Contributor 2"
   ]
  },
  {
   "cell_type": "markdown",
   "metadata": {},
   "source": [
    "## Double-Import (Dictionaries -> Conditions)\n",
    "\n",
    "select = h1.Notebook-6: Dictionaries"
   ]
  },
  {
   "cell_type": "markdown",
   "metadata": {},
   "source": [
    "@include {\n",
    "    src = foundations/Dictionaries-Test.ipynb\n",
    "    select = h1.Notebook-6: Dictionaries\n",
    "}"
   ]
  },
  {
   "cell_type": "markdown",
   "metadata": {},
   "source": [
    "## Single-Import (Functions 101 Import)\n",
    "\n",
    "First we are going to deal with functions because they're important: select = h2.Functions 101"
   ]
  },
  {
   "cell_type": "markdown",
   "metadata": {},
   "source": [
    "@include {\n",
    "    src = foundations/Functions.ipynb\n",
    "    select = h2.Functions 101\n",
    "}"
   ]
  },
  {
   "cell_type": "code",
   "execution_count": null,
   "metadata": {
    "collapsed": true
   },
   "outputs": [],
   "source": [
    "print(\"Let's run some code!\")"
   ]
  },
  {
   "cell_type": "markdown",
   "metadata": {},
   "source": [
    "Some other markdown."
   ]
  },
  {
   "cell_type": "code",
   "execution_count": null,
   "metadata": {
    "collapsed": true
   },
   "outputs": [],
   "source": [
    "print(\"Some more code.\")"
   ]
  },
  {
   "cell_type": "markdown",
   "metadata": {},
   "source": [
    "@include {\n",
    "    src = foundations/Functions.ipynb\n",
    "    select = h3.Assigning to a Variable -h4.A challenge for you!\n",
    "}"
   ]
  },
  {
   "cell_type": "markdown",
   "metadata": {},
   "source": [
    "## Single-Import (Choropleth without Maximum Breaks)\n",
    "\n",
    "And try something from the Choropleth notebook: select = h3.Numerical summaries; h3.Univariate Distribution Visualization; h2.PySAL Classifiers -h3.Maximum Breaks"
   ]
  },
  {
   "cell_type": "markdown",
   "metadata": {},
   "source": [
    "@include {\n",
    "    src = visualization/choropleth_classification.ipynb\n",
    "    select = h3.Numerical summaries; h3.Univariate Distribution Visualization; h2.PySAL Classifiers -h3.Maximum Breaks\n",
    "}"
   ]
  },
  {
   "cell_type": "code",
   "execution_count": null,
   "metadata": {
    "collapsed": true
   },
   "outputs": [],
   "source": [
    "3+5"
   ]
  },
  {
   "cell_type": "code",
   "execution_count": null,
   "metadata": {
    "collapsed": true
   },
   "outputs": [],
   "source": [
    "import pysal\n",
    "print pysal.version"
   ]
  },
  {
   "cell_type": "markdown",
   "metadata": {},
   "source": [
    "Done! Let's see how we did."
   ]
  }
 ],
 "metadata": {
  "anaconda-cloud": {},
  "kernelspec": {
   "display_name": "Python [Root]",
   "language": "python",
   "name": "Python [Root]"
  },
  "language_info": {
   "codemirror_mode": {
    "name": "ipython",
    "version": 2
   },
   "file_extension": ".py",
   "mimetype": "text/x-python",
   "name": "python",
   "nbconvert_exporter": "python",
   "pygments_lexer": "ipython2",
   "version": "2.7.12"
  }
 },
 "nbformat": 4,
 "nbformat_minor": 0
}
